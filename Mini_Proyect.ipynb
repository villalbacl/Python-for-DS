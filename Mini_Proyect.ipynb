{
 "cells": [
  {
   "cell_type": "markdown",
   "metadata": {},
   "source": [
    "<p style=\"font-family: Arial; font-size:2.75vw;color:purple; font-style:bold\"><br>\n",
    "Under 5 years mortality indicators in Argentina\n",
    "</p><br>"
   ]
  },
  {
   "cell_type": "markdown",
   "metadata": {},
   "source": [
    "##### This is a mid-course project presented for the Python for Data Science course in EDX.\n",
    "\n",
    "In this project we use an open dataset from Kaggle: The World Development Indicators Dataset.\n",
    "This is a slightly modified version of the original dataset from The World Bank\n",
    "List of the available indicators and a list of the available countries.\n"
   ]
  },
  {
   "cell_type": "markdown",
   "metadata": {},
   "source": [
    "In this project we are interested to discover which factors could influence in children  under 5 years mortality in Argentina. \n",
    "With this purpose in mind we will explore the World Development Indicators Dataset looking for this indicators. \n",
    "Later we will compare our results with this of neighboring countries in order to find out if this indicators are also\n",
    "present in that countries.\n"
   ]
  },
  {
   "cell_type": "markdown",
   "metadata": {},
   "source": [
    "### Research Question:\n",
    "    \n",
    "#### What are the key indicators that could influence in children under 5 years mortality in Argentina and its neighboring countries?\n"
   ]
  },
  {
   "cell_type": "markdown",
   "metadata": {},
   "source": [
    "#### Data Analysis and exploration"
   ]
  },
  {
   "cell_type": "code",
   "execution_count": 1,
   "metadata": {},
   "outputs": [],
   "source": [
    "# import appropriate libraries\n",
    "\n",
    "import matplotlib.pyplot as plt\n",
    "import numpy as np\n",
    "import sqlite3\n",
    "import pandas as pd \n",
    "%matplotlib inline"
   ]
  },
  {
   "cell_type": "code",
   "execution_count": 2,
   "metadata": {},
   "outputs": [
    {
     "data": {
      "text/html": [
       "<div>\n",
       "<style scoped>\n",
       "    .dataframe tbody tr th:only-of-type {\n",
       "        vertical-align: middle;\n",
       "    }\n",
       "\n",
       "    .dataframe tbody tr th {\n",
       "        vertical-align: top;\n",
       "    }\n",
       "\n",
       "    .dataframe thead th {\n",
       "        text-align: right;\n",
       "    }\n",
       "</style>\n",
       "<table border=\"1\" class=\"dataframe\">\n",
       "  <thead>\n",
       "    <tr style=\"text-align: right;\">\n",
       "      <th></th>\n",
       "      <th>CountryName</th>\n",
       "      <th>CountryCode</th>\n",
       "      <th>IndicatorName</th>\n",
       "      <th>IndicatorCode</th>\n",
       "      <th>Year</th>\n",
       "      <th>Value</th>\n",
       "    </tr>\n",
       "  </thead>\n",
       "  <tbody>\n",
       "    <tr>\n",
       "      <td>0</td>\n",
       "      <td>Arab World</td>\n",
       "      <td>ARB</td>\n",
       "      <td>Adolescent fertility rate (births per 1,000 wo...</td>\n",
       "      <td>SP.ADO.TFRT</td>\n",
       "      <td>1960</td>\n",
       "      <td>1.335609e+02</td>\n",
       "    </tr>\n",
       "    <tr>\n",
       "      <td>1</td>\n",
       "      <td>Arab World</td>\n",
       "      <td>ARB</td>\n",
       "      <td>Age dependency ratio (% of working-age populat...</td>\n",
       "      <td>SP.POP.DPND</td>\n",
       "      <td>1960</td>\n",
       "      <td>8.779760e+01</td>\n",
       "    </tr>\n",
       "    <tr>\n",
       "      <td>2</td>\n",
       "      <td>Arab World</td>\n",
       "      <td>ARB</td>\n",
       "      <td>Age dependency ratio, old (% of working-age po...</td>\n",
       "      <td>SP.POP.DPND.OL</td>\n",
       "      <td>1960</td>\n",
       "      <td>6.634579e+00</td>\n",
       "    </tr>\n",
       "    <tr>\n",
       "      <td>3</td>\n",
       "      <td>Arab World</td>\n",
       "      <td>ARB</td>\n",
       "      <td>Age dependency ratio, young (% of working-age ...</td>\n",
       "      <td>SP.POP.DPND.YG</td>\n",
       "      <td>1960</td>\n",
       "      <td>8.102333e+01</td>\n",
       "    </tr>\n",
       "    <tr>\n",
       "      <td>4</td>\n",
       "      <td>Arab World</td>\n",
       "      <td>ARB</td>\n",
       "      <td>Arms exports (SIPRI trend indicator values)</td>\n",
       "      <td>MS.MIL.XPRT.KD</td>\n",
       "      <td>1960</td>\n",
       "      <td>3.000000e+06</td>\n",
       "    </tr>\n",
       "  </tbody>\n",
       "</table>\n",
       "</div>"
      ],
      "text/plain": [
       "  CountryName CountryCode                                      IndicatorName  \\\n",
       "0  Arab World         ARB  Adolescent fertility rate (births per 1,000 wo...   \n",
       "1  Arab World         ARB  Age dependency ratio (% of working-age populat...   \n",
       "2  Arab World         ARB  Age dependency ratio, old (% of working-age po...   \n",
       "3  Arab World         ARB  Age dependency ratio, young (% of working-age ...   \n",
       "4  Arab World         ARB        Arms exports (SIPRI trend indicator values)   \n",
       "\n",
       "    IndicatorCode  Year         Value  \n",
       "0     SP.ADO.TFRT  1960  1.335609e+02  \n",
       "1     SP.POP.DPND  1960  8.779760e+01  \n",
       "2  SP.POP.DPND.OL  1960  6.634579e+00  \n",
       "3  SP.POP.DPND.YG  1960  8.102333e+01  \n",
       "4  MS.MIL.XPRT.KD  1960  3.000000e+06  "
      ]
     },
     "execution_count": 2,
     "metadata": {},
     "output_type": "execute_result"
    }
   ],
   "source": [
    "#world-development-indicators dataset\n",
    "data = pd.read_csv('C:\\\\Users\\\\clara.o.villalba\\\\Documents\\\\Curso EDX\\\\Week5-Visualization\\\\Week5-Visualization\\\\world-development-indicators\\\\Indicators.csv')\n",
    "data.shape\n",
    "data.head()"
   ]
  },
  {
   "cell_type": "code",
   "execution_count": 3,
   "metadata": {},
   "outputs": [],
   "source": [
    "#How many UNIQUE country names are there ?\n",
    "countries = data['CountryName'].unique()#.tolist()\n",
    "#len(countries)\n",
    "#print(countries)"
   ]
  },
  {
   "cell_type": "code",
   "execution_count": 4,
   "metadata": {},
   "outputs": [
    {
     "data": {
      "text/plain": [
       "56"
      ]
     },
     "execution_count": 4,
     "metadata": {},
     "output_type": "execute_result"
    }
   ],
   "source": [
    "# How many years of data do we have ?\n",
    "years = data['Year'].unique().tolist()\n",
    "len(years)"
   ]
  },
  {
   "cell_type": "code",
   "execution_count": 5,
   "metadata": {},
   "outputs": [
    {
     "name": "stdout",
     "output_type": "stream",
     "text": [
      "['Death rate, crude (per 1,000 people)', 'Number of infant deaths', 'Number of under-five deaths', 'Battle-related deaths (number of people)', 'Lifetime risk of maternal death (%)', 'Lifetime risk of maternal death (1 in: rate varies by country)', 'Number of maternal deaths', 'Completeness of death registration with cause-of-death information (%)', 'Number of neonatal deaths', 'Completeness of infant death reporting (% of reported infant deaths to estimated infant deaths)', 'Cause of death, by communicable diseases and maternal, prenatal and nutrition conditions (% of total)', 'Cause of death, by injury (% of total)', 'Cause of death, by non-communicable diseases (% of total)', 'Completeness of total death reporting (% of reported total deaths to estimated total deaths)']\n"
     ]
    }
   ],
   "source": [
    "#How many indicators are related  with death?\n",
    "all_indicators = data['IndicatorName'].unique().tolist()\n",
    "#print(all_indicators)\n",
    "deaths = [x for x in all_indicators if \"death\" in x.lower()]\n",
    "print(deaths)"
   ]
  },
  {
   "cell_type": "markdown",
   "metadata": {},
   "source": [
    "#### Finding Indicators"
   ]
  },
  {
   "cell_type": "markdown",
   "metadata": {},
   "source": [
    "I’m looking at which factors could influence in children death under 5 years old in Argentina"
   ]
  },
  {
   "cell_type": "code",
   "execution_count": 6,
   "metadata": {},
   "outputs": [
    {
     "name": "stdout",
     "output_type": "stream",
     "text": [
      "['Prevalence of stunting, height for age (% of children under 5)', 'Prevalence of underweight, weight for age (% of children under 5)', 'Prevalence of wasting, weight for height (% of children under 5)', 'Prevalence of overweight, weight for height (% of children under 5)', 'Prevalence of overweight, weight for height, female (% of children under 5)', 'Prevalence of overweight, weight for height, male (% of children under 5)', 'Prevalence of severe wasting, weight for height (% of children under 5)', 'Prevalence of severe wasting, weight for height, female (% of children under 5)', 'Prevalence of severe wasting, weight for height, male (% of children under 5)', 'Prevalence of stunting, height for age, female (% of children under 5)', 'Prevalence of stunting, height for age, male (% of children under 5)', 'Prevalence of underweight, weight for age, female (% of children under 5)', 'Prevalence of underweight, weight for age, male (% of children under 5)', 'Prevalence of wasting, weight for height, female (% of children under 5)', 'Prevalence of wasting, weight for height, male (% of children under 5)', 'Diarrhea treatment (% of children under 5 who received ORS packet)', 'Prevalence of anemia among children (% of children under 5)', 'ARI treatment (% of children under 5 taken to a health provider)', 'Diarrhea treatment (% of children under 5 receiving oral rehydration and continued feeding)']\n"
     ]
    },
    {
     "data": {
      "text/plain": [
       "19"
      ]
     },
     "execution_count": 6,
     "metadata": {},
     "output_type": "execute_result"
    }
   ],
   "source": [
    "#How many indicators are related  with child under 5 years?\n",
    "\n",
    "all_indicators = data['IndicatorName'].unique().tolist()\n",
    "deaths_under_5 = [x for x in all_indicators if \"under 5\" in x.lower()]\n",
    "print(deaths_under_5)\n",
    "len(deaths_under_5)"
   ]
  },
  {
   "cell_type": "markdown",
   "metadata": {},
   "source": [
    "There are 19 indicators related with childs under 5 years. I Choose 4 to evaluate in Argentina:\n",
    "* 'SH.STA.OWGH.ZS': 'Prevalence of overweight, weight for height'\n",
    "* 'SH.STA.STNT.ZS': 'Prevalence of stunting, height for age'\n",
    "* 'SH.STA.MALN.ZS': 'Prevalence of underweight'\n",
    "* 'SH.ANM.CHLD.ZS': 'Prevalence of anemia among children'"
   ]
  },
  {
   "cell_type": "code",
   "execution_count": 7,
   "metadata": {},
   "outputs": [],
   "source": [
    "#codes to use:\n",
    "child_overweight ='SH.STA.OWGH.ZS'\n",
    "child_stuntin = 'SH.STA.STNT.ZS'  \n",
    "child_underweight = 'SH.STA.MALN.ZS' \n",
    "child_anemia = 'SH.ANM.CHLD.ZS' \n",
    "#country:\n",
    "argen = 'Argentina'\n",
    "#masks to use:\n",
    "mask_arg = data['CountryName'].str.contains(argen)\n",
    "mask_child_overw = data['IndicatorCode'].str.contains(child_overweight)\n",
    "mask_child_stun = data['IndicatorCode'].str.contains(child_stuntin)\n",
    "mask_child_underw = data['IndicatorCode'].str.contains(child_underweight)\n",
    "mask_child_anemia = data['IndicatorCode'].str.contains(child_anemia)\n",
    "#apply the masks\n",
    "child_overw_Arg =data[mask_arg & mask_child_overw] \n",
    "child_stun_Arg = data[mask_arg & mask_child_stun]  \n",
    "child_underw_Arg = data[mask_arg & mask_child_underw]\n",
    "child_anemia = data[mask_arg & mask_child_anemia]"
   ]
  },
  {
   "cell_type": "markdown",
   "metadata": {},
   "source": [
    "Now I plot these indicators over the years"
   ]
  },
  {
   "cell_type": "code",
   "execution_count": 8,
   "metadata": {},
   "outputs": [
    {
     "data": {
      "text/plain": [
       "(0, 35)"
      ]
     },
     "execution_count": 8,
     "metadata": {},
     "output_type": "execute_result"
    },
    {
     "data": {
      "image/png": "[encoded data removed]",
      "text/plain": [
       "<Figure size 576x360 with 1 Axes>"
      ]
     },
     "metadata": {
      "needs_background": "light"
     },
     "output_type": "display_data"
    }
   ],
   "source": [
    "plt.subplots(figsize=(8, 5))\n",
    "plt.plot(child_overw_Arg.Year,child_overw_Arg.Value,'r--',label='Child Overweight',color='blue')\n",
    "plt.plot(child_stun_Arg.Year,child_stun_Arg.Value,'r--',label='Child Stunting',color='green')\n",
    "plt.plot(child_underw_Arg.Year,child_underw_Arg.Value, 'r--',label='Child Underweight',color='orange')\n",
    "plt.plot(child_anemia.Year,child_anemia.Value, 'r--',label='Child Anemia',color='red')\n",
    "plt.legend(bbox_to_anchor=(1.05, 1), loc=2, borderaxespad=0.,shadow=True,\n",
    "                    prop={'weight':'roman','size':'large'})\n",
    "#\n",
    "plt.grid(True)\n",
    "plt.xlabel('Years')\n",
    "plt.ylabel('% of children under 5')\n",
    "plt.title('% of children under 5 by indicator by year in Argentina')\n",
    "plt.ylim(0,35)"
   ]
  },
  {
   "cell_type": "markdown",
   "metadata": {},
   "source": [
    "### The Key Indicator"
   ]
  },
  {
   "cell_type": "markdown",
   "metadata": {},
   "source": [
    "We can see that almost all the indicators starts in year 1994 and end in year 2005, except by Child Anemia indicator. \n",
    "Now Iam going to see if this indicator in related with de number of child under-five death in this country sinde the year 1990 to 2011.\n",
    "But first let filter this indicator."
   ]
  },
  {
   "cell_type": "code",
   "execution_count": 9,
   "metadata": {},
   "outputs": [
    {
     "data": {
      "text/plain": [
       "47"
      ]
     },
     "execution_count": 9,
     "metadata": {},
     "output_type": "execute_result"
    }
   ],
   "source": [
    "#number of under-five childs death\n",
    "\n",
    "num_under_five = 'Number of under-five'\n",
    "mask_under_five = data['IndicatorName'].str.contains(num_under_five)\n",
    "death_under5_Arg = data[mask_arg & mask_under_five]\n",
    "len(death_under5_Arg)"
   ]
  },
  {
   "cell_type": "code",
   "execution_count": 10,
   "metadata": {},
   "outputs": [
    {
     "name": "stdout",
     "output_type": "stream",
     "text": [
      "[38.323, 38.657, 39.123, 39.648, 40.025, 40.143, 39.916, 39.363, 38.237, 36.573, 34.287, 31.651, 28.882, 26.149, 23.735, 21.912, 20.721, 20.197, 20.226, 20.466, 20.576, 20.41, 19.913, 19.214, 18.339, 17.555, 16.811, 16.117, 15.436, 14.874, 14.398, 14.023, 13.841, 13.758, 13.632, 13.367, 12.904, 12.389, 11.854, 11.422, 11.017, 10.681, 10.424, 10.224, 9.973, 9.77, 9.513]\n"
     ]
    },
    {
     "data": {
      "text/plain": [
       "(0, 45)"
      ]
     },
     "execution_count": 10,
     "metadata": {},
     "output_type": "execute_result"
    },
    {
     "data": {
      "image/png": "[encoded data removed]",
      "text/plain": [
       "<Figure size 576x360 with 1 Axes>"
      ]
     },
     "metadata": {
      "needs_background": "light"
     },
     "output_type": "display_data"
    }
   ],
   "source": [
    "death_under5_Arg_values = [x/1000 for x in death_under5_Arg['Value']]\n",
    "\n",
    "print(death_under5_Arg_values)\n",
    "plt.subplots(figsize=(8, 5))\n",
    "plt.plot(death_under5_Arg.Year,death_under5_Arg_values,'r--',color='blue')\n",
    "plt.grid(True)\n",
    "plt.xlabel('Years')\n",
    "plt.ylabel('Number of under-five deaths in thousands')\n",
    "plt.title('Number of under-five deaths by year in Argentina')\n",
    "plt.ylim(0,45)\n"
   ]
  },
  {
   "cell_type": "markdown",
   "metadata": {},
   "source": [
    "Now to find out if the number of under-five child deaths is related to the Child anemia indicator, I have to truncate both dataframes so that they have the same date range. But first I check the range of each one."
   ]
  },
  {
   "cell_type": "code",
   "execution_count": 11,
   "metadata": {},
   "outputs": [
    {
     "name": "stdout",
     "output_type": "stream",
     "text": [
      "1969  to  2015\n",
      "1990  to  2011\n"
     ]
    }
   ],
   "source": [
    "years = death_under5_Arg['Year'].unique().tolist()\n",
    "print(min(years),\" to \",max(years))\n",
    "\n",
    "years2 = child_anemia['Year'].unique().tolist()\n",
    "print(min(years2),\" to \",max(years2))"
   ]
  },
  {
   "cell_type": "markdown",
   "metadata": {},
   "source": [
    "We can see now that a range between 1990 and 2011 will be correct. Now I truncate each dataframe"
   ]
  },
  {
   "cell_type": "code",
   "execution_count": 12,
   "metadata": {},
   "outputs": [
    {
     "name": "stdout",
     "output_type": "stream",
     "text": [
      "22\n",
      "22\n"
     ]
    }
   ],
   "source": [
    "death_under5_Arg_trunc = death_under5_Arg[death_under5_Arg['Year']>= 1990]\n",
    "death_under5_Arg_trunc2 = death_under5_Arg_trunc[death_under5_Arg_trunc['Year']<=2011]\n",
    "\n",
    "child_anemia_trunc =  child_anemia[child_anemia['Year']>= 1990]\n",
    "child_anemia_trunc2 = child_anemia_trunc[child_anemia_trunc['Year']<= 2011]\n",
    "\n",
    "print(len(death_under5_Arg_trunc2))\n",
    "print(len(child_anemia_trunc2))"
   ]
  },
  {
   "cell_type": "markdown",
   "metadata": {},
   "source": [
    "Now I will plot these using a scatter plot to see if there is a relation between then"
   ]
  },
  {
   "cell_type": "code",
   "execution_count": 13,
   "metadata": {},
   "outputs": [
    {
     "data": {
      "text/plain": [
       "(0, 40)"
      ]
     },
     "execution_count": 13,
     "metadata": {},
     "output_type": "execute_result"
    },
    {
     "data": {
      "image/png": "[encoded data removed]",
      "text/plain": [
       "<Figure size 576x360 with 1 Axes>"
      ]
     },
     "metadata": {
      "needs_background": "light"
     },
     "output_type": "display_data"
    }
   ],
   "source": [
    "plt.subplots(figsize=(8, 5))\n",
    "plt.scatter(death_under5_Arg_trunc2.Value,child_anemia_trunc2.Value)\n",
    "plt.xlabel('Number of under-five deaths')\n",
    "plt.ylabel('Child Anemia (% of children under 5)')\n",
    "plt.grid(True)\n",
    "plt.title('Number of under-five deaths related with anemia in children')\n",
    "plt.ylim(0,40)\n",
    "\n"
   ]
  },
  {
   "cell_type": "markdown",
   "metadata": {},
   "source": [
    "This look like a strong relationship. We can test this by looking at correlation."
   ]
  },
  {
   "cell_type": "code",
   "execution_count": 14,
   "metadata": {},
   "outputs": [
    {
     "data": {
      "text/plain": [
       "array([[1.        , 0.93336502],\n",
       "       [0.93336502, 1.        ]])"
      ]
     },
     "execution_count": 14,
     "metadata": {},
     "output_type": "execute_result"
    }
   ],
   "source": [
    "np.corrcoef(death_under5_Arg_trunc2.Value,child_anemia_trunc2.Value)"
   ]
  },
  {
   "cell_type": "markdown",
   "metadata": {},
   "source": [
    "We can see that there is a strong relationship between them"
   ]
  },
  {
   "cell_type": "markdown",
   "metadata": {},
   "source": [
    "### Indicators in neighboring countries "
   ]
  },
  {
   "cell_type": "markdown",
   "metadata": {},
   "source": [
    "\n",
    "Now that we have the data for Argentina, let's see the same indicators in it bordering countries:\n",
    "* Uruguay\n",
    "* Paraguay\n",
    "* Brasil\n",
    "* Chile\n",
    "* Bolivia"
   ]
  },
  {
   "cell_type": "markdown",
   "metadata": {},
   "source": [
    "### Uruguay"
   ]
  },
  {
   "cell_type": "code",
   "execution_count": 15,
   "metadata": {},
   "outputs": [],
   "source": [
    "uru = 'Uruguay'\n",
    "child_anemia = 'SH.ANM.CHLD.ZS' \n",
    "mask_uru = data['CountryName'].str.contains(uru)\n",
    "mask_child_anemia = data['IndicatorCode'].str.contains(child_anemia)\n",
    "\n",
    "death_under5_Uru = data[mask_uru & mask_under_five] #Number of under-five deaths in Uruguay\n",
    "child_anemia_Uru = data[mask_uru & mask_child_anemia] \n"
   ]
  },
  {
   "cell_type": "code",
   "execution_count": 16,
   "metadata": {},
   "outputs": [
    {
     "name": "stdout",
     "output_type": "stream",
     "text": [
      "1960  to  2015\n",
      "1990  to  2011\n"
     ]
    }
   ],
   "source": [
    "years = death_under5_Uru['Year'].unique().tolist()\n",
    "print(min(years),\" to \",max(years))\n",
    "\n",
    "years2 = child_anemia_Uru['Year'].unique().tolist()\n",
    "print(min(years2),\" to \",max(years2))\n"
   ]
  },
  {
   "cell_type": "code",
   "execution_count": 17,
   "metadata": {},
   "outputs": [
    {
     "name": "stdout",
     "output_type": "stream",
     "text": [
      "22\n",
      "22\n"
     ]
    }
   ],
   "source": [
    "death_under5_Uru_trunc =  death_under5_Uru[death_under5_Uru['Year']>= 1990]\n",
    "death_under5_Uru_trunc2 = death_under5_Uru_trunc[death_under5_Uru_trunc['Year']<= 2011]\n",
    "print(len(death_under5_Uru_trunc2))\n",
    "print(len(child_anemia_Uru))"
   ]
  },
  {
   "cell_type": "code",
   "execution_count": 18,
   "metadata": {},
   "outputs": [
    {
     "data": {
      "text/plain": [
       "(0, 40)"
      ]
     },
     "execution_count": 18,
     "metadata": {},
     "output_type": "execute_result"
    },
    {
     "data": {
      "image/png": "[encoded data removed]",
      "text/plain": [
       "<Figure size 432x288 with 1 Axes>"
      ]
     },
     "metadata": {
      "needs_background": "light"
     },
     "output_type": "display_data"
    }
   ],
   "source": [
    "plt.scatter(death_under5_Uru_trunc2.Value,child_anemia_Uru.Value)\n",
    "plt.xlabel('Number of under-five deaths')\n",
    "plt.ylabel('Child Anemia (% of children under 5)')\n",
    "plt.grid(True)\n",
    "plt.title('Number of under-five deaths related with anemia in Uruguay')\n",
    "plt.ylim(0,40)\n",
    "#np.corrcoef(child_anemia_Uru_trunc2.Value,child_anemia_trunc2.Value)"
   ]
  },
  {
   "cell_type": "code",
   "execution_count": 19,
   "metadata": {},
   "outputs": [
    {
     "data": {
      "text/plain": [
       "array([[1.        , 0.89008625],\n",
       "       [0.89008625, 1.        ]])"
      ]
     },
     "execution_count": 19,
     "metadata": {},
     "output_type": "execute_result"
    }
   ],
   "source": [
    "np.corrcoef(death_under5_Uru_trunc2.Value,child_anemia_Uru.Value)"
   ]
  },
  {
   "cell_type": "markdown",
   "metadata": {},
   "source": [
    "We can see that there is a strong relationship between them"
   ]
  },
  {
   "cell_type": "markdown",
   "metadata": {},
   "source": [
    "### Paraguay"
   ]
  },
  {
   "cell_type": "code",
   "execution_count": 20,
   "metadata": {},
   "outputs": [],
   "source": [
    "par = 'Paraguay'\n",
    "child_anemia = 'SH.ANM.CHLD.ZS' \n",
    "mask_par = data['CountryName'].str.contains(par)\n",
    "mask_child_anemia = data['IndicatorCode'].str.contains(child_anemia)\n",
    "\n",
    "death_under5_Par = data[mask_par & mask_under_five] #Number of under-five deaths in Paraguay\n",
    "child_anemia_Par = data[mask_par & mask_child_anemia] "
   ]
  },
  {
   "cell_type": "code",
   "execution_count": 21,
   "metadata": {},
   "outputs": [
    {
     "name": "stdout",
     "output_type": "stream",
     "text": [
      "1960  to  2015\n",
      "1990  to  2011\n"
     ]
    }
   ],
   "source": [
    "years = death_under5_Par['Year'].unique().tolist()\n",
    "print(min(years),\" to \",max(years))\n",
    "\n",
    "years2 = child_anemia_Par['Year'].unique().tolist()\n",
    "print(min(years2),\" to \",max(years2))"
   ]
  },
  {
   "cell_type": "code",
   "execution_count": 22,
   "metadata": {},
   "outputs": [
    {
     "name": "stdout",
     "output_type": "stream",
     "text": [
      "22\n",
      "22\n"
     ]
    }
   ],
   "source": [
    "death_under5_Par_trunc =  death_under5_Par[death_under5_Par['Year']>= 1990]\n",
    "death_under5_Par_trunc2 = death_under5_Par_trunc[death_under5_Par_trunc['Year']<= 2011]\n",
    "print(len(death_under5_Par_trunc2))\n",
    "print(len(child_anemia_Par))"
   ]
  },
  {
   "cell_type": "code",
   "execution_count": 23,
   "metadata": {},
   "outputs": [
    {
     "data": {
      "text/plain": [
       "(0, 50)"
      ]
     },
     "execution_count": 23,
     "metadata": {},
     "output_type": "execute_result"
    },
    {
     "data": {
      "image/png": "[encoded data removed]",
      "text/plain": [
       "<Figure size 432x288 with 1 Axes>"
      ]
     },
     "metadata": {
      "needs_background": "light"
     },
     "output_type": "display_data"
    }
   ],
   "source": [
    "plt.scatter(death_under5_Par_trunc2.Value,child_anemia_Par.Value)\n",
    "plt.xlabel('Number of under-five deaths')\n",
    "plt.ylabel('Child Anemia (% of children under 5)')\n",
    "plt.grid(True)\n",
    "plt.title('Number of under-five deaths related with anemia in Paraguay')\n",
    "plt.ylim(0,50)"
   ]
  },
  {
   "cell_type": "code",
   "execution_count": 24,
   "metadata": {},
   "outputs": [
    {
     "data": {
      "text/plain": [
       "array([[1.        , 0.86814251],\n",
       "       [0.86814251, 1.        ]])"
      ]
     },
     "execution_count": 24,
     "metadata": {},
     "output_type": "execute_result"
    }
   ],
   "source": [
    "np.corrcoef(death_under5_Par_trunc2.Value,child_anemia_Par.Value)"
   ]
  },
  {
   "cell_type": "markdown",
   "metadata": {},
   "source": [
    "### Brasil"
   ]
  },
  {
   "cell_type": "code",
   "execution_count": 25,
   "metadata": {},
   "outputs": [],
   "source": [
    "bra = 'Brazil'\n",
    "child_anemia = 'SH.ANM.CHLD.ZS' \n",
    "mask_bra = data['CountryName'].str.contains(bra)\n",
    "mask_child_anemia = data['IndicatorCode'].str.contains(child_anemia)\n",
    "\n",
    "death_under5_Bra = data[mask_bra & mask_under_five] #Number of under-five deaths in Brasil\n",
    "child_anemia_Bra = data[mask_bra & mask_child_anemia] "
   ]
  },
  {
   "cell_type": "code",
   "execution_count": 26,
   "metadata": {},
   "outputs": [
    {
     "name": "stdout",
     "output_type": "stream",
     "text": [
      "1960  to  2015\n",
      "1990  to  2011\n"
     ]
    }
   ],
   "source": [
    "years = death_under5_Bra['Year'].unique().tolist()\n",
    "print(min(years),\" to \",max(years))\n",
    "\n",
    "years2 = child_anemia_Bra['Year'].unique().tolist()\n",
    "print(min(years2),\" to \",max(years2))"
   ]
  },
  {
   "cell_type": "code",
   "execution_count": 27,
   "metadata": {},
   "outputs": [
    {
     "name": "stdout",
     "output_type": "stream",
     "text": [
      "22\n",
      "22\n"
     ]
    }
   ],
   "source": [
    "death_under5_Bra_trunc =  death_under5_Bra[death_under5_Bra['Year']>= 1990]\n",
    "death_under5_Bra_trunc2 = death_under5_Bra_trunc[death_under5_Bra_trunc['Year']<= 2011]\n",
    "print(len(death_under5_Bra_trunc2))\n",
    "print(len(child_anemia_Bra))"
   ]
  },
  {
   "cell_type": "code",
   "execution_count": 28,
   "metadata": {},
   "outputs": [
    {
     "data": {
      "text/plain": [
       "(0, 40)"
      ]
     },
     "execution_count": 28,
     "metadata": {},
     "output_type": "execute_result"
    },
    {
     "data": {
      "image/png": "[encoded data removed]",
      "text/plain": [
       "<Figure size 432x288 with 1 Axes>"
      ]
     },
     "metadata": {
      "needs_background": "light"
     },
     "output_type": "display_data"
    }
   ],
   "source": [
    "plt.scatter(death_under5_Bra_trunc2.Value,child_anemia_Bra.Value)\n",
    "plt.xlabel('Number of under-five deaths')\n",
    "plt.ylabel('Child Anemia (% of children under 5)')\n",
    "plt.grid(True)\n",
    "plt.title('Number of under-five deaths related with anemia in Brasil')\n",
    "plt.ylim(0,40)"
   ]
  },
  {
   "cell_type": "code",
   "execution_count": 29,
   "metadata": {},
   "outputs": [
    {
     "data": {
      "text/plain": [
       "array([[1.        , 0.89301909],\n",
       "       [0.89301909, 1.        ]])"
      ]
     },
     "execution_count": 29,
     "metadata": {},
     "output_type": "execute_result"
    }
   ],
   "source": [
    "np.corrcoef(death_under5_Bra_trunc2.Value,child_anemia_Bra.Value)"
   ]
  },
  {
   "cell_type": "markdown",
   "metadata": {},
   "source": [
    "### Chile"
   ]
  },
  {
   "cell_type": "code",
   "execution_count": 30,
   "metadata": {},
   "outputs": [],
   "source": [
    "chile = 'Chile'\n",
    "child_anemia = 'SH.ANM.CHLD.ZS' \n",
    "mask_chile = data['CountryName'].str.contains(chile)\n",
    "mask_child_anemia = data['IndicatorCode'].str.contains(child_anemia)\n",
    "\n",
    "death_under5_Chile = data[mask_chile & mask_under_five] #Number of under-five deaths in Brasil\n",
    "child_anemia_Chile = data[mask_chile & mask_child_anemia] "
   ]
  },
  {
   "cell_type": "code",
   "execution_count": 31,
   "metadata": {},
   "outputs": [
    {
     "name": "stdout",
     "output_type": "stream",
     "text": [
      "1960  to  2015\n",
      "1990  to  2011\n"
     ]
    }
   ],
   "source": [
    "years = death_under5_Chile['Year'].unique().tolist()\n",
    "print(min(years),\" to \",max(years))\n",
    "\n",
    "years2 = child_anemia_Chile['Year'].unique().tolist()\n",
    "print(min(years2),\" to \",max(years2))"
   ]
  },
  {
   "cell_type": "code",
   "execution_count": 32,
   "metadata": {},
   "outputs": [
    {
     "name": "stdout",
     "output_type": "stream",
     "text": [
      "22\n",
      "22\n"
     ]
    }
   ],
   "source": [
    "death_under5_Chile_trunc =  death_under5_Chile[death_under5_Chile['Year']>= 1990]\n",
    "death_under5_Chile_trunc2 = death_under5_Chile_trunc[death_under5_Chile_trunc['Year']<= 2011]\n",
    "print(len(death_under5_Chile_trunc2))\n",
    "print(len(child_anemia_Chile))"
   ]
  },
  {
   "cell_type": "code",
   "execution_count": 33,
   "metadata": {},
   "outputs": [
    {
     "data": {
      "text/plain": [
       "(0, 40)"
      ]
     },
     "execution_count": 33,
     "metadata": {},
     "output_type": "execute_result"
    },
    {
     "data": {
      "image/png": "[encoded data removed]",
      "text/plain": [
       "<Figure size 432x288 with 1 Axes>"
      ]
     },
     "metadata": {
      "needs_background": "light"
     },
     "output_type": "display_data"
    }
   ],
   "source": [
    "plt.scatter(death_under5_Chile_trunc2.Value,child_anemia_Chile.Value)\n",
    "plt.xlabel('Number of under-five deaths')\n",
    "plt.ylabel('Child Anemia (% of children under 5)')\n",
    "plt.grid(True)\n",
    "plt.title('Number of under-five deaths related with anemia in Chile')\n",
    "plt.ylim(0,40)"
   ]
  },
  {
   "cell_type": "code",
   "execution_count": 34,
   "metadata": {},
   "outputs": [
    {
     "data": {
      "text/plain": [
       "array([[1.        , 0.97622008],\n",
       "       [0.97622008, 1.        ]])"
      ]
     },
     "execution_count": 34,
     "metadata": {},
     "output_type": "execute_result"
    }
   ],
   "source": [
    "np.corrcoef(death_under5_Chile_trunc2.Value,child_anemia_Chile.Value)"
   ]
  },
  {
   "cell_type": "markdown",
   "metadata": {},
   "source": [
    "### Bolivia"
   ]
  },
  {
   "cell_type": "code",
   "execution_count": 35,
   "metadata": {},
   "outputs": [],
   "source": [
    "boliv = 'Bolivia'\n",
    "child_anemia = 'SH.ANM.CHLD.ZS' \n",
    "mask_boliv = data['CountryName'].str.contains(boliv)\n",
    "mask_child_anemia = data['IndicatorCode'].str.contains(child_anemia)\n",
    "\n",
    "death_under5_Boliv = data[mask_boliv & mask_under_five] #Number of under-five deaths in Brasil\n",
    "child_anemia_Boliv = data[mask_boliv & mask_child_anemia] "
   ]
  },
  {
   "cell_type": "code",
   "execution_count": 36,
   "metadata": {},
   "outputs": [
    {
     "name": "stdout",
     "output_type": "stream",
     "text": [
      "1960  to  2015\n",
      "1990  to  2011\n"
     ]
    }
   ],
   "source": [
    "years = death_under5_Boliv['Year'].unique().tolist()\n",
    "print(min(years),\" to \",max(years))\n",
    "\n",
    "years2 = child_anemia_Boliv['Year'].unique().tolist()\n",
    "print(min(years2),\" to \",max(years2))"
   ]
  },
  {
   "cell_type": "code",
   "execution_count": 37,
   "metadata": {},
   "outputs": [
    {
     "name": "stdout",
     "output_type": "stream",
     "text": [
      "22\n",
      "22\n"
     ]
    }
   ],
   "source": [
    "death_under5_Boliv_trunc =  death_under5_Boliv[death_under5_Boliv['Year']>= 1990]\n",
    "death_under5_Boliv_trunc2 = death_under5_Boliv_trunc[death_under5_Boliv_trunc['Year']<= 2011]\n",
    "print(len(death_under5_Boliv_trunc2))\n",
    "print(len(child_anemia_Boliv))"
   ]
  },
  {
   "cell_type": "code",
   "execution_count": 38,
   "metadata": {},
   "outputs": [
    {
     "data": {
      "text/plain": [
       "Text(0.5, 1.0, 'Number of under-five deaths related with anemia in Bolivia')"
      ]
     },
     "execution_count": 38,
     "metadata": {},
     "output_type": "execute_result"
    },
    {
     "data": {
      "image/png": "[encoded data removed]",
      "text/plain": [
       "<Figure size 432x288 with 1 Axes>"
      ]
     },
     "metadata": {
      "needs_background": "light"
     },
     "output_type": "display_data"
    }
   ],
   "source": [
    "plt.scatter(death_under5_Boliv_trunc2.Value,child_anemia_Boliv.Value)\n",
    "plt.xlabel('Number of under-five deaths')\n",
    "plt.ylabel('Child Anemia (% of children under 5)')\n",
    "plt.grid(True)\n",
    "plt.title('Number of under-five deaths related with anemia in Bolivia')\n",
    "#plt.ylim(0,60)"
   ]
  },
  {
   "cell_type": "code",
   "execution_count": 39,
   "metadata": {},
   "outputs": [
    {
     "data": {
      "text/plain": [
       "array([[ 1.        , -0.02814757],\n",
       "       [-0.02814757,  1.        ]])"
      ]
     },
     "execution_count": 39,
     "metadata": {},
     "output_type": "execute_result"
    }
   ],
   "source": [
    "np.corrcoef(death_under5_Boliv_trunc2.Value,child_anemia_Boliv.Value)"
   ]
  },
  {
   "cell_type": "markdown",
   "metadata": {},
   "source": [
    "We can see that the Correlation Coefficient is negative, this means that the two variables move in opposite directions. \n",
    "A negative correlation coefficient is also referred to as an inverse correlation"
   ]
  },
  {
   "cell_type": "markdown",
   "metadata": {},
   "source": [
    "### Comparison of countries"
   ]
  },
  {
   "cell_type": "code",
   "execution_count": 40,
   "metadata": {},
   "outputs": [
    {
     "data": {
      "text/plain": [
       "Text(0.5, 1.0, 'Child Anemia (% of children under 5)')"
      ]
     },
     "execution_count": 40,
     "metadata": {},
     "output_type": "execute_result"
    },
    {
     "data": {
      "image/png": "[encoded data removed]",
      "text/plain": [
       "<Figure size 432x288 with 1 Axes>"
      ]
     },
     "metadata": {
      "needs_background": "light"
     },
     "output_type": "display_data"
    }
   ],
   "source": [
    "plt.plot(child_anemia_trunc2.Year,child_anemia_trunc2.Value,label='Argentina',color='blue')\n",
    "plt.plot(child_anemia_Uru.Year,child_anemia_Uru.Value,label='Uruguay',color='green')\n",
    "plt.plot(child_anemia_Par.Year,child_anemia_Par.Value,label='Paraguay',color='orange')\n",
    "plt.plot(child_anemia_Bra.Year,child_anemia_Bra.Value,label='Brasil',color='black')\n",
    "plt.plot(child_anemia_Chile.Year,child_anemia_Chile.Value,label='Chile',color='grey')\n",
    "plt.plot(child_anemia_Boliv.Year,child_anemia_Boliv.Value,label='Bolivia',color='red')\n",
    "\n",
    "plt.legend(bbox_to_anchor=(1.05, 1), loc=2, borderaxespad=0.,shadow=True,\n",
    "                    prop={'weight':'roman','size':'large'})\n",
    "#\n",
    "plt.grid(True)\n",
    "plt.xlabel('Years')\n",
    "plt.ylabel('% of children under 5')\n",
    "plt.title('Child Anemia (% of children under 5)')\n",
    "#plt.ylim(0,60)"
   ]
  },
  {
   "cell_type": "markdown",
   "metadata": {},
   "source": [
    "Comparing the results in the plot above, we can see that Bolivia has the highest % of mortality of children under 5 by anemia"
   ]
  },
  {
   "cell_type": "markdown",
   "metadata": {},
   "source": [
    "#### Now we are going to show this results in a Map using folium library"
   ]
  },
  {
   "cell_type": "code",
   "execution_count": 41,
   "metadata": {},
   "outputs": [],
   "source": [
    "import folium\n",
    "country_geo ='geo/world-countries.json'"
   ]
  },
  {
   "cell_type": "code",
   "execution_count": 42,
   "metadata": {},
   "outputs": [
    {
     "name": "stdout",
     "output_type": "stream",
     "text": [
      "        CountryName CountryCode  \\\n",
      "1898965   Argentina         ARG   \n",
      "1906160     Bolivia         BOL   \n",
      "1907834      Brazil         BRA   \n",
      "1914524       Chile         CHL   \n",
      "1968077    Paraguay         PRY   \n",
      "...             ...         ...   \n",
      "5064546     Bolivia         BOL   \n",
      "5067343      Brazil         BRA   \n",
      "5076690       Chile         CHL   \n",
      "5157295    Paraguay         PRY   \n",
      "5195933     Uruguay         URY   \n",
      "\n",
      "                                             IndicatorName   IndicatorCode  \\\n",
      "1898965  Prevalence of anemia among children (% of chil...  SH.ANM.CHLD.ZS   \n",
      "1906160  Prevalence of anemia among children (% of chil...  SH.ANM.CHLD.ZS   \n",
      "1907834  Prevalence of anemia among children (% of chil...  SH.ANM.CHLD.ZS   \n",
      "1914524  Prevalence of anemia among children (% of chil...  SH.ANM.CHLD.ZS   \n",
      "1968077  Prevalence of anemia among children (% of chil...  SH.ANM.CHLD.ZS   \n",
      "...                                                    ...             ...   \n",
      "5064546  Prevalence of anemia among children (% of chil...  SH.ANM.CHLD.ZS   \n",
      "5067343  Prevalence of anemia among children (% of chil...  SH.ANM.CHLD.ZS   \n",
      "5076690  Prevalence of anemia among children (% of chil...  SH.ANM.CHLD.ZS   \n",
      "5157295  Prevalence of anemia among children (% of chil...  SH.ANM.CHLD.ZS   \n",
      "5195933  Prevalence of anemia among children (% of chil...  SH.ANM.CHLD.ZS   \n",
      "\n",
      "         Year  Value  \n",
      "1898965  2011   33.5  \n",
      "1906160  2011   57.4  \n",
      "1907834  2011   37.2  \n",
      "1914524  2011   31.7  \n",
      "1968077  2011   39.7  \n",
      "...       ...    ...  \n",
      "5064546  2011   56.1  \n",
      "5067343  2011   23.6  \n",
      "5076690  2011   20.9  \n",
      "5157295  2011   27.2  \n",
      "5195933  2011   23.6  \n",
      "\n",
      "[132 rows x 6 columns]\n"
     ]
    }
   ],
   "source": [
    "hist_year = 2011\n",
    "child_anemia = 'SH.ANM.CHLD.ZS' \n",
    "countries = ['Argentina','Uruguay','Paraguay','Brazil','Chile','Bolivia']\n",
    "mask_countries = data['CountryName'].isin(countries)\n",
    "mask_child_anemia = data['IndicatorCode'].str.contains(child_anemia)\n",
    "mask_year = data['Year']= hist_year\n",
    "\n",
    "# apply our mask\n",
    "stage = data[mask_child_anemia & mask_year & mask_countries]\n",
    "print(stage)\n",
    "#stage.head()"
   ]
  },
  {
   "cell_type": "code",
   "execution_count": 43,
   "metadata": {},
   "outputs": [
    {
     "data": {
      "text/html": [
       "<div>\n",
       "<style scoped>\n",
       "    .dataframe tbody tr th:only-of-type {\n",
       "        vertical-align: middle;\n",
       "    }\n",
       "\n",
       "    .dataframe tbody tr th {\n",
       "        vertical-align: top;\n",
       "    }\n",
       "\n",
       "    .dataframe thead th {\n",
       "        text-align: right;\n",
       "    }\n",
       "</style>\n",
       "<table border=\"1\" class=\"dataframe\">\n",
       "  <thead>\n",
       "    <tr style=\"text-align: right;\">\n",
       "      <th></th>\n",
       "      <th>CountryCode</th>\n",
       "      <th>Value</th>\n",
       "    </tr>\n",
       "  </thead>\n",
       "  <tbody>\n",
       "    <tr>\n",
       "      <td>1898965</td>\n",
       "      <td>ARG</td>\n",
       "      <td>33.5</td>\n",
       "    </tr>\n",
       "    <tr>\n",
       "      <td>1906160</td>\n",
       "      <td>BOL</td>\n",
       "      <td>57.4</td>\n",
       "    </tr>\n",
       "    <tr>\n",
       "      <td>1907834</td>\n",
       "      <td>BRA</td>\n",
       "      <td>37.2</td>\n",
       "    </tr>\n",
       "    <tr>\n",
       "      <td>1914524</td>\n",
       "      <td>CHL</td>\n",
       "      <td>31.7</td>\n",
       "    </tr>\n",
       "    <tr>\n",
       "      <td>1968077</td>\n",
       "      <td>PRY</td>\n",
       "      <td>39.7</td>\n",
       "    </tr>\n",
       "  </tbody>\n",
       "</table>\n",
       "</div>"
      ],
      "text/plain": [
       "        CountryCode  Value\n",
       "1898965         ARG   33.5\n",
       "1906160         BOL   57.4\n",
       "1907834         BRA   37.2\n",
       "1914524         CHL   31.7\n",
       "1968077         PRY   39.7"
      ]
     },
     "execution_count": 43,
     "metadata": {},
     "output_type": "execute_result"
    }
   ],
   "source": [
    "plot_data = stage[['CountryCode','Value']]\n",
    "plot_data.head()"
   ]
  },
  {
   "cell_type": "code",
   "execution_count": 44,
   "metadata": {},
   "outputs": [],
   "source": [
    "# label for the legend\n",
    "hist_indicator = stage.iloc[0]['IndicatorName']"
   ]
  },
  {
   "cell_type": "code",
   "execution_count": 45,
   "metadata": {},
   "outputs": [],
   "source": [
    "# Setup a folium map at a high-level zoom @Alok - what is the 100,0, doesn't seem like lat long\n",
    "map = folium.Map(location=[100, 0], zoom_start=1.5)"
   ]
  },
  {
   "cell_type": "code",
   "execution_count": 46,
   "metadata": {},
   "outputs": [
    {
     "name": "stderr",
     "output_type": "stream",
     "text": [
      "C:\\Users\\clara.o.villalba\\AppData\\Local\\Continuum\\anaconda3\\lib\\site-packages\\folium\\folium.py:415: FutureWarning: The choropleth  method has been deprecated. Instead use the new Choropleth class, which has the same arguments. See the example notebook 'GeoJSON_and_choropleth' for how to do this.\n",
      "  FutureWarning\n"
     ]
    }
   ],
   "source": [
    "# choropleth maps bind Pandas Data Frames and json geometries.  This allows us to quickly visualize data combinations\n",
    "map.choropleth(geo_data=country_geo, data=plot_data,\n",
    "             columns=['CountryCode', 'Value'],\n",
    "             key_on='feature.id',\n",
    "             fill_color='YlGnBu', fill_opacity=0.7, line_opacity=0.2,\n",
    "             legend_name=hist_indicator)"
   ]
  },
  {
   "cell_type": "code",
   "execution_count": 47,
   "metadata": {},
   "outputs": [],
   "source": [
    "# Create Folium plot\n",
    "map.save('plot_data.html')"
   ]
  },
  {
   "cell_type": "code",
   "execution_count": 48,
   "metadata": {},
   "outputs": [
    {
     "name": "stderr",
     "output_type": "stream",
     "text": [
      "C:\\Users\\clara.o.villalba\\AppData\\Local\\Continuum\\anaconda3\\lib\\site-packages\\IPython\\core\\display.py:694: UserWarning: Consider using IPython.display.IFrame instead\n",
      "  warnings.warn(\"Consider using IPython.display.IFrame instead\")\n"
     ]
    },
    {
     "data": {
      "text/html": [
       "<iframe src=plot_data.html width=700 height=450></iframe>"
      ],
      "text/plain": [
       "<IPython.core.display.HTML object>"
      ]
     },
     "execution_count": 48,
     "metadata": {},
     "output_type": "execute_result"
    }
   ],
   "source": [
    "# Import the Folium interactive html file\n",
    "from IPython.display import HTML\n",
    "HTML('<iframe src=plot_data.html width=700 height=450></iframe>')"
   ]
  },
  {
   "cell_type": "markdown",
   "metadata": {},
   "source": [
    "### Conclusions"
   ]
  },
  {
   "cell_type": "markdown",
   "metadata": {},
   "source": [
    "* After this research we can conclude that Child Anemia is one of the key indicator related with the mortality of children under five in Argentina.\n",
    "\n",
    "* We also see that this indicator might  influence in their neighbours countries.\n",
    " \n",
    "* It remains for future research to verify if this indicator has such a close relationship with infant mortality in each country.\n"
   ]
  },
  {
   "cell_type": "code",
   "execution_count": null,
   "metadata": {},
   "outputs": [],
   "source": []
  }
 ],
 "metadata": {
  "kernelspec": {
   "display_name": "Python 3",
   "language": "python",
   "name": "python3"
  },
  "language_info": {
   "codemirror_mode": {
    "name": "ipython",
    "version": 3
   },
   "file_extension": ".py",
   "mimetype": "text/x-python",
   "name": "python",
   "nbconvert_exporter": "python",
   "pygments_lexer": "ipython3",
   "version": "3.7.4"
  }
 },
 "nbformat": 4,
 "nbformat_minor": 2
}
