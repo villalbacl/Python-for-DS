{
 "cells": [
  {
   "cell_type": "markdown",
   "metadata": {},
   "source": [
    "<p style=\"font-family: Arial; font-size:2.10em;color:purple; font-style:bold\">Analysis of users events from an eCommerce website</p>"
   ]
  },
  {
   "cell_type": "markdown",
   "metadata": {},
   "source": [
    "#### This is my final project presented in the Python for Data Science course in EDX"
   ]
  },
  {
   "cell_type": "markdown",
   "metadata": {},
   "source": [
    "In this project I used a dataset from Kaggle containing users' events from an eCommerce website to find out some metrics and to create a model to predict the next purchase date of a product\n"
   ]
  },
  {
   "cell_type": "markdown",
   "metadata": {},
   "source": [
    "I applied all the concepts I learned during the course, including:\n",
    "    * Introduction to Data Science\n",
    "    * Jupyter Notebooks, Numpy and Pandas\n",
    "    * Data Importing\n",
    "    * Data Cleaning and exploration\n",
    "    * Data Visualization\n",
    "    * Introduction and application of Machine Learning Algorithms "
   ]
  },
  {
   "cell_type": "markdown",
   "metadata": {},
   "source": [
    "#### Motivation\n",
    " * All companies wants more customers, more orders, more revenue, more signups, more efficiency.\n",
    " * To do that we need to find out metrics that best captures the core value that products delivered to customers\n",
    " \n",
    " We this on mind, we will analyze a dataset containing users' events from an eCommerce website and we will try to discover this metrics\n",
    " Finally we will train some ML  algorithms to predict the next purchase day of a product.\n"
   ]
  },
  {
   "cell_type": "markdown",
   "metadata": {},
   "source": [
    "#### Research Questions\n",
    "\n",
    "* How many purchases we have in each month?\n",
    "* What was the Monthly Revenue?\n",
    "* What was the number of Monthly Active Customers?\n",
    "* Who were the main buyers in each month?\n",
    "* Which brands were the top 10 sellers in each month?\n",
    "* Which products were the top 10 sellers in each month?\n",
    "* How was the distribution of events each month? \n",
    "* Can we predicting the Next Purchase Day of a product?\n"
   ]
  },
  {
   "cell_type": "code",
   "execution_count": null,
   "metadata": {},
   "outputs": [],
   "source": [
    "#Importing the Necessary Libraries\n",
    "import pandas as pd\n",
    "import matplotlib.pyplot as plt\n",
    "import numpy as np"
   ]
  },
  {
   "cell_type": "markdown",
   "metadata": {},
   "source": [
    "<p style=\"font-family: Arial; font-size:1.75em;color:purple; font-style:bold\">Ecommerce Cosmetics Shop Data Description</p>"
   ]
  },
  {
   "cell_type": "markdown",
   "metadata": {},
   "source": [
    "#### Dataset Used\n",
    "* eCommerce Events History in Cosmetics Shop\n",
    "* This dataset contains 20M users' events from eCommerce website\n",
    "* Contains behavior data for 5 months (Oct 2019 – Feb 2020) from a medium cosmetics online store\n",
    "\n",
    "For the purpose of this analysis only the data from December 2019 and January 2020 were used\n"
   ]
  },
  {
   "cell_type": "code",
   "execution_count": 2,
   "metadata": {},
   "outputs": [],
   "source": [
    "#import the dataset info a dataframe\n",
    "data_Dec = pd.read_csv('C:/Users/clara.o.villalba/Documents/Curso EDX/Week-9-ExampleNotebooks/TP/eCommerce_Cosmetics_ Shop_Inputs/2019-Dec.csv')\n",
    "data_Jan = pd.read_csv('C:/Users/clara.o.villalba/Documents/Curso EDX/Week-9-ExampleNotebooks/TP/eCommerce_Cosmetics_ Shop_Inputs/2020-Jan.csv')"
   ]
  },
  {
   "cell_type": "markdown",
   "metadata": {},
   "source": [
    "#### Semantic of the datasets\n",
    "    User **userid** during session **usersession** added to shopping cart (property **eventtype** is equal **cart**) \n",
    "    product **productid** of brand **brand** of category **categorycode** (categorycode) with price **price** at **event_time**\n",
    "    \n",
    "Each row in the file represents an event. All events are related to products and users. Each event is like many-to-many relation between products and users."
   ]
  },
  {
   "cell_type": "code",
   "execution_count": 3,
   "metadata": {},
   "outputs": [
    {
     "data": {
      "text/html": [
       "<div>\n",
       "<style scoped>\n",
       "    .dataframe tbody tr th:only-of-type {\n",
       "        vertical-align: middle;\n",
       "    }\n",
       "\n",
       "    .dataframe tbody tr th {\n",
       "        vertical-align: top;\n",
       "    }\n",
       "\n",
       "    .dataframe thead th {\n",
       "        text-align: right;\n",
       "    }\n",
       "</style>\n",
       "<table border=\"1\" class=\"dataframe\">\n",
       "  <thead>\n",
       "    <tr style=\"text-align: right;\">\n",
       "      <th></th>\n",
       "      <th>event_time</th>\n",
       "      <th>event_type</th>\n",
       "      <th>product_id</th>\n",
       "      <th>category_id</th>\n",
       "      <th>category_code</th>\n",
       "      <th>brand</th>\n",
       "      <th>price</th>\n",
       "      <th>user_id</th>\n",
       "      <th>user_session</th>\n",
       "    </tr>\n",
       "  </thead>\n",
       "  <tbody>\n",
       "    <tr>\n",
       "      <td>0</td>\n",
       "      <td>2019-12-01 00:00:00 UTC</td>\n",
       "      <td>remove_from_cart</td>\n",
       "      <td>5712790</td>\n",
       "      <td>1487580005268456287</td>\n",
       "      <td>NaN</td>\n",
       "      <td>f.o.x</td>\n",
       "      <td>6.27</td>\n",
       "      <td>576802932</td>\n",
       "      <td>51d85cb0-897f-48d2-918b-ad63965c12dc</td>\n",
       "    </tr>\n",
       "    <tr>\n",
       "      <td>1</td>\n",
       "      <td>2019-12-01 00:00:00 UTC</td>\n",
       "      <td>view</td>\n",
       "      <td>5764655</td>\n",
       "      <td>1487580005411062629</td>\n",
       "      <td>NaN</td>\n",
       "      <td>cnd</td>\n",
       "      <td>29.05</td>\n",
       "      <td>412120092</td>\n",
       "      <td>8adff31e-2051-4894-9758-224bfa8aec18</td>\n",
       "    </tr>\n",
       "    <tr>\n",
       "      <td>2</td>\n",
       "      <td>2019-12-01 00:00:02 UTC</td>\n",
       "      <td>cart</td>\n",
       "      <td>4958</td>\n",
       "      <td>1487580009471148064</td>\n",
       "      <td>NaN</td>\n",
       "      <td>runail</td>\n",
       "      <td>1.19</td>\n",
       "      <td>494077766</td>\n",
       "      <td>c99a50e8-2fac-4c4d-89ec-41c05f114554</td>\n",
       "    </tr>\n",
       "    <tr>\n",
       "      <td>3</td>\n",
       "      <td>2019-12-01 00:00:05 UTC</td>\n",
       "      <td>view</td>\n",
       "      <td>5848413</td>\n",
       "      <td>1487580007675986893</td>\n",
       "      <td>NaN</td>\n",
       "      <td>freedecor</td>\n",
       "      <td>0.79</td>\n",
       "      <td>348405118</td>\n",
       "      <td>722ffea5-73c0-4924-8e8f-371ff8031af4</td>\n",
       "    </tr>\n",
       "    <tr>\n",
       "      <td>4</td>\n",
       "      <td>2019-12-01 00:00:07 UTC</td>\n",
       "      <td>view</td>\n",
       "      <td>5824148</td>\n",
       "      <td>1487580005511725929</td>\n",
       "      <td>NaN</td>\n",
       "      <td>NaN</td>\n",
       "      <td>5.56</td>\n",
       "      <td>576005683</td>\n",
       "      <td>28172809-7e4a-45ce-bab0-5efa90117cd5</td>\n",
       "    </tr>\n",
       "  </tbody>\n",
       "</table>\n",
       "</div>"
      ],
      "text/plain": [
       "                event_time        event_type  product_id          category_id  \\\n",
       "0  2019-12-01 00:00:00 UTC  remove_from_cart     5712790  1487580005268456287   \n",
       "1  2019-12-01 00:00:00 UTC              view     5764655  1487580005411062629   \n",
       "2  2019-12-01 00:00:02 UTC              cart        4958  1487580009471148064   \n",
       "3  2019-12-01 00:00:05 UTC              view     5848413  1487580007675986893   \n",
       "4  2019-12-01 00:00:07 UTC              view     5824148  1487580005511725929   \n",
       "\n",
       "  category_code      brand  price    user_id  \\\n",
       "0           NaN      f.o.x   6.27  576802932   \n",
       "1           NaN        cnd  29.05  412120092   \n",
       "2           NaN     runail   1.19  494077766   \n",
       "3           NaN  freedecor   0.79  348405118   \n",
       "4           NaN        NaN   5.56  576005683   \n",
       "\n",
       "                           user_session  \n",
       "0  51d85cb0-897f-48d2-918b-ad63965c12dc  \n",
       "1  8adff31e-2051-4894-9758-224bfa8aec18  \n",
       "2  c99a50e8-2fac-4c4d-89ec-41c05f114554  \n",
       "3  722ffea5-73c0-4924-8e8f-371ff8031af4  \n",
       "4  28172809-7e4a-45ce-bab0-5efa90117cd5  "
      ]
     },
     "execution_count": 3,
     "metadata": {},
     "output_type": "execute_result"
    }
   ],
   "source": [
    "data_Dec.head()"
   ]
  },
  {
   "cell_type": "code",
   "execution_count": 4,
   "metadata": {},
   "outputs": [
    {
     "data": {
      "text/html": [
       "<div>\n",
       "<style scoped>\n",
       "    .dataframe tbody tr th:only-of-type {\n",
       "        vertical-align: middle;\n",
       "    }\n",
       "\n",
       "    .dataframe tbody tr th {\n",
       "        vertical-align: top;\n",
       "    }\n",
       "\n",
       "    .dataframe thead th {\n",
       "        text-align: right;\n",
       "    }\n",
       "</style>\n",
       "<table border=\"1\" class=\"dataframe\">\n",
       "  <thead>\n",
       "    <tr style=\"text-align: right;\">\n",
       "      <th></th>\n",
       "      <th>product_id</th>\n",
       "      <th>category_id</th>\n",
       "      <th>price</th>\n",
       "      <th>user_id</th>\n",
       "    </tr>\n",
       "  </thead>\n",
       "  <tbody>\n",
       "    <tr>\n",
       "      <td>count</td>\n",
       "      <td>3.533286e+06</td>\n",
       "      <td>3.533286e+06</td>\n",
       "      <td>3.533286e+06</td>\n",
       "      <td>3.533286e+06</td>\n",
       "    </tr>\n",
       "    <tr>\n",
       "      <td>mean</td>\n",
       "      <td>5.473054e+06</td>\n",
       "      <td>1.555023e+18</td>\n",
       "      <td>8.871856e+00</td>\n",
       "      <td>5.223318e+08</td>\n",
       "    </tr>\n",
       "    <tr>\n",
       "      <td>std</td>\n",
       "      <td>1.331331e+06</td>\n",
       "      <td>1.689262e+17</td>\n",
       "      <td>1.986474e+01</td>\n",
       "      <td>8.494819e+07</td>\n",
       "    </tr>\n",
       "    <tr>\n",
       "      <td>min</td>\n",
       "      <td>3.752000e+03</td>\n",
       "      <td>1.487580e+18</td>\n",
       "      <td>-7.937000e+01</td>\n",
       "      <td>1.180452e+06</td>\n",
       "    </tr>\n",
       "    <tr>\n",
       "      <td>25%</td>\n",
       "      <td>5.726191e+06</td>\n",
       "      <td>1.487580e+18</td>\n",
       "      <td>2.060000e+00</td>\n",
       "      <td>4.866830e+08</td>\n",
       "    </tr>\n",
       "    <tr>\n",
       "      <td>50%</td>\n",
       "      <td>5.811429e+06</td>\n",
       "      <td>1.487580e+18</td>\n",
       "      <td>4.210000e+00</td>\n",
       "      <td>5.566496e+08</td>\n",
       "    </tr>\n",
       "    <tr>\n",
       "      <td>75%</td>\n",
       "      <td>5.859462e+06</td>\n",
       "      <td>1.487580e+18</td>\n",
       "      <td>7.140000e+00</td>\n",
       "      <td>5.828019e+08</td>\n",
       "    </tr>\n",
       "    <tr>\n",
       "      <td>max</td>\n",
       "      <td>5.917178e+06</td>\n",
       "      <td>2.235524e+18</td>\n",
       "      <td>3.277800e+02</td>\n",
       "      <td>5.954145e+08</td>\n",
       "    </tr>\n",
       "  </tbody>\n",
       "</table>\n",
       "</div>"
      ],
      "text/plain": [
       "         product_id   category_id         price       user_id\n",
       "count  3.533286e+06  3.533286e+06  3.533286e+06  3.533286e+06\n",
       "mean   5.473054e+06  1.555023e+18  8.871856e+00  5.223318e+08\n",
       "std    1.331331e+06  1.689262e+17  1.986474e+01  8.494819e+07\n",
       "min    3.752000e+03  1.487580e+18 -7.937000e+01  1.180452e+06\n",
       "25%    5.726191e+06  1.487580e+18  2.060000e+00  4.866830e+08\n",
       "50%    5.811429e+06  1.487580e+18  4.210000e+00  5.566496e+08\n",
       "75%    5.859462e+06  1.487580e+18  7.140000e+00  5.828019e+08\n",
       "max    5.917178e+06  2.235524e+18  3.277800e+02  5.954145e+08"
      ]
     },
     "execution_count": 4,
     "metadata": {},
     "output_type": "execute_result"
    }
   ],
   "source": [
    "data_Dec.describe()"
   ]
  },
  {
   "cell_type": "code",
   "execution_count": 5,
   "metadata": {},
   "outputs": [
    {
     "name": "stdout",
     "output_type": "stream",
     "text": [
      "<class 'pandas.core.frame.DataFrame'>\n",
      "RangeIndex: 3533286 entries, 0 to 3533285\n",
      "Data columns (total 9 columns):\n",
      "event_time       object\n",
      "event_type       object\n",
      "product_id       int64\n",
      "category_id      int64\n",
      "category_code    object\n",
      "brand            object\n",
      "price            float64\n",
      "user_id          int64\n",
      "user_session     object\n",
      "dtypes: float64(1), int64(3), object(5)\n",
      "memory usage: 242.6+ MB\n"
     ]
    }
   ],
   "source": [
    "data_Dec.info()"
   ]
  },
  {
   "cell_type": "code",
   "execution_count": 6,
   "metadata": {},
   "outputs": [
    {
     "data": {
      "text/html": [
       "<div>\n",
       "<style scoped>\n",
       "    .dataframe tbody tr th:only-of-type {\n",
       "        vertical-align: middle;\n",
       "    }\n",
       "\n",
       "    .dataframe tbody tr th {\n",
       "        vertical-align: top;\n",
       "    }\n",
       "\n",
       "    .dataframe thead th {\n",
       "        text-align: right;\n",
       "    }\n",
       "</style>\n",
       "<table border=\"1\" class=\"dataframe\">\n",
       "  <thead>\n",
       "    <tr style=\"text-align: right;\">\n",
       "      <th></th>\n",
       "      <th>event_time</th>\n",
       "      <th>event_type</th>\n",
       "      <th>product_id</th>\n",
       "      <th>category_id</th>\n",
       "      <th>category_code</th>\n",
       "      <th>brand</th>\n",
       "      <th>price</th>\n",
       "      <th>user_id</th>\n",
       "      <th>user_session</th>\n",
       "    </tr>\n",
       "  </thead>\n",
       "  <tbody>\n",
       "    <tr>\n",
       "      <td>0</td>\n",
       "      <td>2020-01-01 00:00:00 UTC</td>\n",
       "      <td>view</td>\n",
       "      <td>5809910</td>\n",
       "      <td>1602943681873052386</td>\n",
       "      <td>NaN</td>\n",
       "      <td>grattol</td>\n",
       "      <td>5.24</td>\n",
       "      <td>595414620</td>\n",
       "      <td>4adb70bb-edbd-4981-b60f-a05bfd32683a</td>\n",
       "    </tr>\n",
       "    <tr>\n",
       "      <td>1</td>\n",
       "      <td>2020-01-01 00:00:09 UTC</td>\n",
       "      <td>view</td>\n",
       "      <td>5812943</td>\n",
       "      <td>1487580012121948301</td>\n",
       "      <td>NaN</td>\n",
       "      <td>kinetics</td>\n",
       "      <td>3.97</td>\n",
       "      <td>595414640</td>\n",
       "      <td>c8c5205d-be43-4f1d-aa56-4828b8151c8a</td>\n",
       "    </tr>\n",
       "    <tr>\n",
       "      <td>2</td>\n",
       "      <td>2020-01-01 00:00:19 UTC</td>\n",
       "      <td>view</td>\n",
       "      <td>5798924</td>\n",
       "      <td>1783999068867920626</td>\n",
       "      <td>NaN</td>\n",
       "      <td>zinger</td>\n",
       "      <td>3.97</td>\n",
       "      <td>595412617</td>\n",
       "      <td>46a5010f-bd69-4fbe-a00d-bb17aa7b46f3</td>\n",
       "    </tr>\n",
       "    <tr>\n",
       "      <td>3</td>\n",
       "      <td>2020-01-01 00:00:24 UTC</td>\n",
       "      <td>view</td>\n",
       "      <td>5793052</td>\n",
       "      <td>1487580005754995573</td>\n",
       "      <td>NaN</td>\n",
       "      <td>NaN</td>\n",
       "      <td>4.92</td>\n",
       "      <td>420652863</td>\n",
       "      <td>546f6af3-a517-4752-a98b-80c4c5860711</td>\n",
       "    </tr>\n",
       "    <tr>\n",
       "      <td>4</td>\n",
       "      <td>2020-01-01 00:00:25 UTC</td>\n",
       "      <td>view</td>\n",
       "      <td>5899926</td>\n",
       "      <td>2115334439910245200</td>\n",
       "      <td>NaN</td>\n",
       "      <td>NaN</td>\n",
       "      <td>3.92</td>\n",
       "      <td>484071203</td>\n",
       "      <td>cff70ddf-529e-4b0c-a4fc-f43a749c0acb</td>\n",
       "    </tr>\n",
       "  </tbody>\n",
       "</table>\n",
       "</div>"
      ],
      "text/plain": [
       "                event_time event_type  product_id          category_id  \\\n",
       "0  2020-01-01 00:00:00 UTC       view     5809910  1602943681873052386   \n",
       "1  2020-01-01 00:00:09 UTC       view     5812943  1487580012121948301   \n",
       "2  2020-01-01 00:00:19 UTC       view     5798924  1783999068867920626   \n",
       "3  2020-01-01 00:00:24 UTC       view     5793052  1487580005754995573   \n",
       "4  2020-01-01 00:00:25 UTC       view     5899926  2115334439910245200   \n",
       "\n",
       "  category_code     brand  price    user_id  \\\n",
       "0           NaN   grattol   5.24  595414620   \n",
       "1           NaN  kinetics   3.97  595414640   \n",
       "2           NaN    zinger   3.97  595412617   \n",
       "3           NaN       NaN   4.92  420652863   \n",
       "4           NaN       NaN   3.92  484071203   \n",
       "\n",
       "                           user_session  \n",
       "0  4adb70bb-edbd-4981-b60f-a05bfd32683a  \n",
       "1  c8c5205d-be43-4f1d-aa56-4828b8151c8a  \n",
       "2  46a5010f-bd69-4fbe-a00d-bb17aa7b46f3  \n",
       "3  546f6af3-a517-4752-a98b-80c4c5860711  \n",
       "4  cff70ddf-529e-4b0c-a4fc-f43a749c0acb  "
      ]
     },
     "execution_count": 6,
     "metadata": {},
     "output_type": "execute_result"
    }
   ],
   "source": [
    "data_Jan.head()"
   ]
  },
  {
   "cell_type": "code",
   "execution_count": 7,
   "metadata": {},
   "outputs": [
    {
     "name": "stdout",
     "output_type": "stream",
     "text": [
      "<class 'pandas.core.frame.DataFrame'>\n",
      "RangeIndex: 4264752 entries, 0 to 4264751\n",
      "Data columns (total 9 columns):\n",
      "event_time       object\n",
      "event_type       object\n",
      "product_id       int64\n",
      "category_id      int64\n",
      "category_code    object\n",
      "brand            object\n",
      "price            float64\n",
      "user_id          int64\n",
      "user_session     object\n",
      "dtypes: float64(1), int64(3), object(5)\n",
      "memory usage: 292.8+ MB\n"
     ]
    }
   ],
   "source": [
    "data_Jan.info()"
   ]
  },
  {
   "cell_type": "markdown",
   "metadata": {},
   "source": [
    "### Data Cleaning Steps\n",
    "As we can see there are some nulls in our data, let's do some cleaning"
   ]
  },
  {
   "cell_type": "code",
   "execution_count": 190,
   "metadata": {},
   "outputs": [
    {
     "name": "stdout",
     "output_type": "stream",
     "text": [
      "(3533286, 9)\n",
      "(43193, 9)\n"
     ]
    }
   ],
   "source": [
    "data_Dec_clean = data_Dec.dropna()\n",
    "print(data_Dec.shape)\n",
    "print(data_Dec_clean.shape)"
   ]
  },
  {
   "cell_type": "markdown",
   "metadata": {},
   "source": [
    "As we can see, now we have less rows.\n",
    "Just let's check if there is any missing null value..."
   ]
  },
  {
   "cell_type": "code",
   "execution_count": 9,
   "metadata": {},
   "outputs": [
    {
     "data": {
      "text/plain": [
       "33         False\n",
       "52         False\n",
       "90         False\n",
       "112        False\n",
       "138        False\n",
       "           ...  \n",
       "3532871    False\n",
       "3532874    False\n",
       "3533061    False\n",
       "3533221    False\n",
       "3533226    False\n",
       "Length: 43193, dtype: bool"
      ]
     },
     "execution_count": 9,
     "metadata": {},
     "output_type": "execute_result"
    }
   ],
   "source": [
    "data_Dec_clean.isnull().any(axis=1)"
   ]
  },
  {
   "cell_type": "markdown",
   "metadata": {},
   "source": [
    "As we see there is no null values any more.\n",
    "Now lets do the same with the data_Jan Dataset.."
   ]
  },
  {
   "cell_type": "code",
   "execution_count": 191,
   "metadata": {},
   "outputs": [
    {
     "name": "stdout",
     "output_type": "stream",
     "text": [
      "(4264752, 9)\n",
      "(57768, 9)\n"
     ]
    }
   ],
   "source": [
    "data_Jan_clean = data_Jan.dropna()\n",
    "print(data_Jan.shape)\n",
    "print(data_Jan_clean.shape)"
   ]
  },
  {
   "cell_type": "code",
   "execution_count": 11,
   "metadata": {},
   "outputs": [
    {
     "data": {
      "text/plain": [
       "359        False\n",
       "380        False\n",
       "487        False\n",
       "907        False\n",
       "987        False\n",
       "           ...  \n",
       "4264525    False\n",
       "4264534    False\n",
       "4264594    False\n",
       "4264721    False\n",
       "4264738    False\n",
       "Length: 57768, dtype: bool"
      ]
     },
     "execution_count": 11,
     "metadata": {},
     "output_type": "execute_result"
    }
   ],
   "source": [
    "data_Jan_clean.isnull().any(axis=1)"
   ]
  },
  {
   "cell_type": "markdown",
   "metadata": {},
   "source": [
    "### Data Analysis"
   ]
  },
  {
   "cell_type": "markdown",
   "metadata": {},
   "source": [
    "#### 1- How many diferents categories we have, and how many values for each one?"
   ]
  },
  {
   "cell_type": "code",
   "execution_count": 186,
   "metadata": {},
   "outputs": [
    {
     "name": "stdout",
     "output_type": "stream",
     "text": [
      "Unique Categories in December =  9\n",
      "--------------------------------------------------\n",
      "appliances.environment.vacuum             23084\n",
      "stationery.cartrige                        8410\n",
      "apparel.glove                              5825\n",
      "furniture.bathroom.bath                    2775\n",
      "furniture.living_room.cabinet              1583\n",
      "accessories.bag                             867\n",
      "accessories.cosmetic_bag                    301\n",
      "appliances.personal.hair_cutter             273\n",
      "appliances.environment.air_conditioner       75\n",
      "Name: category_code, dtype: int64\n",
      "--------------------------------------------------\n",
      "--------------------------------------------------\n",
      "Unique Categories in Jan =  10\n",
      "--------------------------------------------------\n",
      "appliances.environment.vacuum             28979\n",
      "stationery.cartrige                       10392\n",
      "apparel.glove                              9958\n",
      "furniture.bathroom.bath                    4350\n",
      "furniture.living_room.cabinet              2249\n",
      "accessories.bag                             780\n",
      "appliances.personal.hair_cutter             517\n",
      "accessories.cosmetic_bag                    377\n",
      "appliances.environment.air_conditioner      102\n",
      "appliances.personal.massager                 64\n",
      "Name: category_code, dtype: int64\n"
     ]
    }
   ],
   "source": [
    "print(\"Unique Categories in December = \",len(data_Dec_clean['category_code'].value_counts()))\n",
    "print('-' * 50)\n",
    "print(data_Dec_clean['category_code'].value_counts())\n",
    "print('-' * 50)\n",
    "print('-' * 50)\n",
    "print(\"Unique Categories in Jan = \",len(data_Jan_clean['category_code'].value_counts()))\n",
    "print('-' * 50)\n",
    "print(data_Jan_clean['category_code'].value_counts())"
   ]
  },
  {
   "cell_type": "markdown",
   "metadata": {},
   "source": [
    "We have 9 categories in December 2019 and 10 categories in January 2020. \n",
    "This last have the category appliances.personal.massager that is not in December"
   ]
  },
  {
   "cell_type": "markdown",
   "metadata": {},
   "source": [
    "#### 2- How many differents brands we have? and How many rows for each?"
   ]
  },
  {
   "cell_type": "code",
   "execution_count": 270,
   "metadata": {},
   "outputs": [
    {
     "name": "stdout",
     "output_type": "stream",
     "text": [
      "Unique brands in December =  38\n",
      "--------------------------------\n",
      "italwax    6490\n",
      "max        5961\n",
      "polarus    4938\n",
      "runail     4191\n",
      "emil       3969\n",
      "Name: brand, dtype: int64\n",
      "--------------------------------\n",
      "Unique brands in January =  38\n",
      "--------------------------------\n",
      "italwax    8472\n",
      "max        7125\n",
      "benovy     6465\n",
      "polarus    6430\n",
      "emil       5595\n",
      "Name: brand, dtype: int64\n"
     ]
    }
   ],
   "source": [
    "unique_dec_brands = data_Dec_clean['brand'].value_counts()\n",
    "unique_jan_brands = data_Jan_clean['brand'].value_counts()\n",
    "print(\"Unique brands in December = \",len(unique_dec_brands))\n",
    "print('-' * 32)\n",
    "print(unique_dec_brands.head())\n",
    "print('-' * 32)\n",
    "print(\"Unique brands in January = \",len(unique_jan_brands))\n",
    "print('-' * 32)\n",
    "print(unique_jan_brands.head())"
   ]
  },
  {
   "cell_type": "markdown",
   "metadata": {},
   "source": [
    "We have 38 brands in each month"
   ]
  },
  {
   "cell_type": "markdown",
   "metadata": {},
   "source": [
    "#### 3- Do we have negative prices?\n",
    "Let's check if we have negative values in the prices"
   ]
  },
  {
   "cell_type": "code",
   "execution_count": 14,
   "metadata": {},
   "outputs": [
    {
     "name": "stdout",
     "output_type": "stream",
     "text": [
      "Empty DataFrame\n",
      "Columns: [product_id, price]\n",
      "Index: []\n",
      "Empty DataFrame\n",
      "Columns: [product_id, price]\n",
      "Index: []\n"
     ]
    }
   ],
   "source": [
    "print(data_Dec_clean.loc[data_Dec_clean['price']<0][['product_id','price']].drop_duplicates())\n",
    "print(data_Jan_clean.loc[data_Jan_clean['price']<0][['product_id','price']].drop_duplicates())"
   ]
  },
  {
   "cell_type": "markdown",
   "metadata": {},
   "source": [
    "As we can see we don't have negative prices"
   ]
  },
  {
   "cell_type": "markdown",
   "metadata": {},
   "source": [
    "#### 4- How many purchases we have in each month?"
   ]
  },
  {
   "cell_type": "code",
   "execution_count": 15,
   "metadata": {},
   "outputs": [],
   "source": [
    "# Get only purchases\n",
    "dec_purchases = data_Dec_clean.loc[data_Dec_clean.event_type == 'purchase']\n",
    "#print(dec_purchases.head())\n",
    "jan_purchases = data_Jan_clean.loc[data_Jan_clean.event_type == 'purchase']\n",
    "#print(jan_purchases.head())"
   ]
  },
  {
   "cell_type": "code",
   "execution_count": 16,
   "metadata": {},
   "outputs": [
    {
     "name": "stdout",
     "output_type": "stream",
     "text": [
      "Purchases in December:  2111\n",
      "Purchases in January:  3160\n"
     ]
    }
   ],
   "source": [
    "print(\"Purchases in December: \",len(dec_purchases))\n",
    "print(\"Purchases in January: \", len(jan_purchases))"
   ]
  },
  {
   "cell_type": "code",
   "execution_count": 180,
   "metadata": {},
   "outputs": [
    {
     "data": {
      "image/png": "[encoded data removed]",
      "text/plain": [
       "<Figure size 432x288 with 1 Axes>"
      ]
     },
     "metadata": {},
     "output_type": "display_data"
    }
   ],
   "source": [
    "# Pie chart of % purchases\n",
    "labels = 'December 2019', 'January 2020'\n",
    "sizes = [2111, 3160]\n",
    "\n",
    "fig1, ax1 = plt.subplots()\n",
    "ax1.pie(sizes, labels=labels, autopct='%1.1f%%',\n",
    "        shadow=True, startangle=90)\n",
    "ax1.axis('equal')  # Equal aspect ratio ensures that pie is drawn as a circle.\n",
    "ax1.set_title('% Purchases')\n",
    "\n",
    "plt.show()"
   ]
  },
  {
   "cell_type": "markdown",
   "metadata": {},
   "source": [
    "We have more purchases in January"
   ]
  },
  {
   "cell_type": "markdown",
   "metadata": {},
   "source": [
    "#### 5- What was the Monthly Revenue?\n",
    "We now can calcule the revenue in each month"
   ]
  },
  {
   "cell_type": "code",
   "execution_count": 17,
   "metadata": {},
   "outputs": [
    {
     "name": "stdout",
     "output_type": "stream",
     "text": [
      "December Revenue:  32125.35\n",
      "January Revenue:  45313.29\n"
     ]
    }
   ],
   "source": [
    "revenue_dec = dec_purchases['price'].sum()\n",
    "revenue_jan = jan_purchases['price'].sum()\n",
    "print('December Revenue: ', revenue_dec)\n",
    "print('January Revenue: ',revenue_jan)"
   ]
  },
  {
   "cell_type": "code",
   "execution_count": 181,
   "metadata": {},
   "outputs": [
    {
     "data": {
      "image/png": "[encoded data removed]",
      "text/plain": [
       "<Figure size 720x216 with 1 Axes>"
      ]
     },
     "metadata": {},
     "output_type": "display_data"
    }
   ],
   "source": [
    "import seaborn as sns\n",
    "sns.set(style=\"whitegrid\")\n",
    "f, ax = plt.subplots(figsize=(10, 3))\n",
    "ax.set_ylabel('Revenue')\n",
    "ax.set_xlabel('Month')\n",
    "ax.set_title('Monthly Revenue')\n",
    "labels = ['December 2019', 'January 2020']\n",
    "y_values = [revenue_dec, revenue_jan]\n",
    "ax = sns.barplot(x=labels, y=y_values)"
   ]
  },
  {
   "cell_type": "markdown",
   "metadata": {},
   "source": [
    "The revenue increase from 32125.35 in December 2019 to 45313.29  in January 2020"
   ]
  },
  {
   "cell_type": "markdown",
   "metadata": {},
   "source": [
    "#### 6- What was the number of Monthly Active Customers?"
   ]
  },
  {
   "cell_type": "code",
   "execution_count": 18,
   "metadata": {},
   "outputs": [
    {
     "name": "stdout",
     "output_type": "stream",
     "text": [
      "Active Custumers in December:  13318\n",
      "Active Custumers in January :  16832\n"
     ]
    }
   ],
   "source": [
    "#counting unique users IDs\n",
    "customers_dec = data_Dec_clean['user_id'].nunique()\n",
    "customer_jan = data_Jan_clean['user_id'].nunique()\n",
    "print('Active Custumers in December: ' , customers_dec)\n",
    "print('Active Custumers in January : ' ,customer_jan)"
   ]
  },
  {
   "cell_type": "code",
   "execution_count": 183,
   "metadata": {},
   "outputs": [
    {
     "data": {
      "image/png": "[encoded data removed]",
      "text/plain": [
       "<Figure size 432x288 with 1 Axes>"
      ]
     },
     "metadata": {},
     "output_type": "display_data"
    }
   ],
   "source": [
    "# Pie chart of % active customers\n",
    "labels = 'December 2019', 'January 2020'\n",
    "sizes = [13318, 16832]\n",
    "\n",
    "fig1, ax1 = plt.subplots()\n",
    "ax1.pie(sizes, labels=labels, autopct='%1.1f%%',\n",
    "        shadow=True, startangle=90)\n",
    "ax1.axis('equal')  # Equal aspect ratio ensures that pie is drawn as a circle.\n",
    "ax1.set_title('% Active Customers')\n",
    "\n",
    "plt.show()"
   ]
  },
  {
   "cell_type": "markdown",
   "metadata": {},
   "source": [
    "In January 2020 the number of active customers went up from 13318 in December 2019 to 16832 "
   ]
  },
  {
   "cell_type": "markdown",
   "metadata": {},
   "source": [
    "### Calculate some metrics"
   ]
  },
  {
   "cell_type": "markdown",
   "metadata": {},
   "source": [
    "#### 1- Which brands were the top 10 sellers in each month?"
   ]
  },
  {
   "cell_type": "code",
   "execution_count": 19,
   "metadata": {},
   "outputs": [],
   "source": [
    "#first we look for the top sellers brands of each month\n",
    "dec_top_sellers = dec_purchases.groupby('brand').brand.agg([len]).sort_values(by='len', ascending=False)\n",
    "dec_top_sellers= dec_top_sellers.reset_index()\n",
    "dec_top_sellers_top10 = dec_top_sellers[:10]\n",
    "#print(dec_top_sellers)\n",
    "#print('-' * 20)\n",
    "jan_top_sellers = jan_purchases.groupby('brand').brand.agg([len]).sort_values(by='len', ascending=False)\n",
    "jan_top_sellers = jan_top_sellers.reset_index()\n",
    "jan_top_sellers_top10 = jan_top_sellers[:10]\n",
    "#print(jan_top_sellers)"
   ]
  },
  {
   "cell_type": "markdown",
   "metadata": {},
   "source": [
    "Now let's create a grouped bar chart to compare the top 10 total sales in both months. \n",
    "To do that I used matplotlib documentation:\n",
    "https://matplotlib.org/3.1.1/gallery/lines_bars_and_markers/barchart.html\n",
    "    "
   ]
  },
  {
   "cell_type": "code",
   "execution_count": 20,
   "metadata": {},
   "outputs": [
    {
     "name": "stdout",
     "output_type": "stream",
     "text": [
      "['italwax', 'benovy', 'depilflax', 'max', 'polarus', 'irisk', 'emil', 'domix', 'runail', 'nitrimax']\n",
      "['italwax', 'benovy', 'emil', 'max', 'polarus', 'domix', 'irisk', 'depilflax', 'nitrimax', 'runail']\n"
     ]
    }
   ],
   "source": [
    "labels = dec_top_sellers_top10['brand'].values.tolist()\n",
    "labels2 = jan_top_sellers_top10['brand'].values.tolist()\n",
    "print(labels)\n",
    "print(labels2)"
   ]
  },
  {
   "cell_type": "markdown",
   "metadata": {},
   "source": [
    "As we can see we have the same top 10 brands, we are using them like labels"
   ]
  },
  {
   "cell_type": "code",
   "execution_count": 21,
   "metadata": {},
   "outputs": [
    {
     "data": {
      "image/png": "[encoded data removed]",
      "text/plain": [
       "<Figure size 720x360 with 1 Axes>"
      ]
     },
     "metadata": {
      "needs_background": "light"
     },
     "output_type": "display_data"
    }
   ],
   "source": [
    "labels = dec_top_sellers_top10['brand'].values.tolist()\n",
    "dec_values = dec_top_sellers_top10['len'].values.tolist()\n",
    "jan_values = jan_top_sellers_top10['len'].values.tolist()\n",
    "\n",
    "x = np.arange(len(labels))  # the label locations\n",
    "width = 0.35  # the width of the bars\n",
    "\n",
    "fig, ax = plt.subplots(figsize=(10, 5))\n",
    "rects1 = ax.bar(x - width/2, dec_values, width, label='December 2019')\n",
    "rects2 = ax.bar(x + width/2, jan_values, width, label='January 2020')\n",
    "\n",
    "# Add some text for labels, title and custom x-axis tick labels, etc.\n",
    "ax.set_ylabel('Total of Sales')\n",
    "ax.set_title('Top 10 most popular brands')\n",
    "ax.set_xticks(x)\n",
    "ax.set_xticklabels(labels)\n",
    "ax.legend()\n",
    "\n",
    "\n",
    "def autolabel(rects):\n",
    "    \"\"\"Attach a text label above each bar in *rects*, displaying its height.\"\"\"\n",
    "    for rect in rects:\n",
    "        height = rect.get_height()\n",
    "        ax.annotate('{}'.format(height),\n",
    "                    xy=(rect.get_x() + rect.get_width() / 2, height),\n",
    "                    xytext=(0, 3),  # 3 points vertical offset\n",
    "                    textcoords=\"offset points\",\n",
    "                    ha='center', va='bottom')\n",
    "autolabel(rects1)\n",
    "autolabel(rects2)\n",
    "\n",
    "fig.tight_layout()\n",
    "\n",
    "plt.show()"
   ]
  },
  {
   "cell_type": "markdown",
   "metadata": {},
   "source": [
    "As we can see in the bar chart above, there were more sales in January 2020 than December 2019 for the same top 10 brands"
   ]
  },
  {
   "cell_type": "markdown",
   "metadata": {},
   "source": [
    "#### 2- Which products were the top 10 sellers in each month?"
   ]
  },
  {
   "cell_type": "code",
   "execution_count": 22,
   "metadata": {},
   "outputs": [
    {
     "name": "stdout",
     "output_type": "stream",
     "text": [
      "   product_id  len\n",
      "0     5766980  126\n",
      "1     5749199   80\n",
      "2     5901858   67\n",
      "3     5901987   62\n",
      "4     5749198   57\n",
      "5     5911195   56\n",
      "6     5775814   55\n",
      "7     5732026   53\n",
      "8     5810083   51\n",
      "9     5743974   46\n",
      "-------------------------\n",
      "   product_id  len\n",
      "0     5766980  151\n",
      "1     5749199  130\n",
      "2     5901858  124\n",
      "3     5861764   93\n",
      "4     5911195   92\n",
      "5     5901987   91\n",
      "6     5743974   74\n",
      "7     5788783   72\n",
      "8     5901859   71\n",
      "9     5749198   63\n"
     ]
    }
   ],
   "source": [
    "#the 10 top sellers products id of each month\n",
    "dec_top_prod_sellers = dec_purchases.groupby('product_id').brand.agg([len]).sort_values(by='len', ascending=False)[:10]\n",
    "dec_top_prod_sellers= dec_top_prod_sellers.reset_index()\n",
    "print(dec_top_prod_sellers)\n",
    "print('-' * 25)\n",
    "jan_top_prod_sellers = jan_purchases.groupby('product_id').brand.agg([len]).sort_values(by='len', ascending=False)[:10]\n",
    "jan_top_prod_sellers = jan_top_prod_sellers.reset_index()\n",
    "print(jan_top_prod_sellers)"
   ]
  },
  {
   "cell_type": "markdown",
   "metadata": {},
   "source": [
    " Let's create a grouped bar chart to compare the top 10 total sales in both months"
   ]
  },
  {
   "cell_type": "code",
   "execution_count": 23,
   "metadata": {},
   "outputs": [
    {
     "name": "stdout",
     "output_type": "stream",
     "text": [
      "[5766980, 5749199, 5901858, 5901987, 5749198, 5911195, 5775814, 5732026, 5810083, 5743974]\n",
      "[5766980, 5749199, 5901858, 5861764, 5911195, 5901987, 5743974, 5788783, 5901859, 5749198]\n",
      "[657, 382, 154, 144, 114, 113, 100, 97, 85, 65]\n",
      "[970, 692, 188, 178, 166, 151, 139, 136, 130, 110]\n"
     ]
    }
   ],
   "source": [
    "labels_prod_dec = dec_top_prod_sellers['product_id'].values.tolist()\n",
    "labels_prod_jan = jan_top_prod_sellers['product_id'].values.tolist()\n",
    "print(labels_prod_dec)\n",
    "print(labels_prod_jan)\n",
    "dec_values_prod = dec_top_prod_sellers['len'].values.tolist()\n",
    "jan_values_prod = jan_top_prod_sellers['len'].values.tolist()\n",
    "print(dec_values)\n",
    "print(jan_values)\n"
   ]
  },
  {
   "cell_type": "code",
   "execution_count": 24,
   "metadata": {},
   "outputs": [
    {
     "data": {
      "image/png": "[encoded data removed]",
      "text/plain": [
       "<Figure size 720x216 with 1 Axes>"
      ]
     },
     "metadata": {},
     "output_type": "display_data"
    }
   ],
   "source": [
    "import seaborn as sns\n",
    "sns.set(style=\"whitegrid\")\n",
    "f, ax = plt.subplots(figsize=(10, 3))\n",
    "ax.set_ylabel('Total of Sales')\n",
    "ax.set_xlabel('Products')\n",
    "ax.set_title('Top 10 most seller products in December')\n",
    "ax = sns.barplot(x=labels_prod_dec, y=dec_values_prod)\n"
   ]
  },
  {
   "cell_type": "code",
   "execution_count": 25,
   "metadata": {},
   "outputs": [
    {
     "data": {
      "image/png": "[encoded data removed]",
      "text/plain": [
       "<Figure size 720x216 with 1 Axes>"
      ]
     },
     "metadata": {},
     "output_type": "display_data"
    }
   ],
   "source": [
    "sns.set(style=\"whitegrid\")\n",
    "f, ax = plt.subplots(figsize=(10, 3))\n",
    "ax.set_ylabel('Total of Sales')\n",
    "ax.set_xlabel('Products')\n",
    "ax.set_title('Top 10 most seller products in January')\n",
    "ax = sns.barplot(x=labels_prod_jan, y=jan_values_prod)"
   ]
  },
  {
   "cell_type": "markdown",
   "metadata": {},
   "source": [
    "We can see that the top seller product was 5766980 in both months"
   ]
  },
  {
   "cell_type": "markdown",
   "metadata": {},
   "source": [
    "#### 3- Who user was the top buyer in each month?"
   ]
  },
  {
   "cell_type": "markdown",
   "metadata": {},
   "source": [
    "We need to find the total number purchases orders for each customer"
   ]
  },
  {
   "cell_type": "code",
   "execution_count": 26,
   "metadata": {},
   "outputs": [
    {
     "name": "stdout",
     "output_type": "stream",
     "text": [
      "        user_id  event_time\n",
      "438   494776094          14\n",
      "1374  591224965          13\n",
      "1273  587637758          12\n",
      "1081  582066080          10\n",
      "408   487872370           9\n",
      "1222  586026006           7\n",
      "1112  582927698           7\n",
      "183   416321822           7\n",
      "837   565036131           7\n",
      "1229  586173827           6\n",
      "------------------------------\n",
      "        user_id  event_time\n",
      "1028  558030082          23\n",
      "838   535037929          22\n",
      "473   466753586          15\n",
      "1798  602520669          12\n",
      "1458  596184821           9\n",
      "1346  588645683           9\n",
      "296   419987792           9\n",
      "184   379775300           9\n",
      "1768  602172708           8\n",
      "1839  603453051           8\n"
     ]
    }
   ],
   "source": [
    "dec_purchase_frequency = dec_purchases.groupby('user_id').event_time.count().reset_index()\n",
    "dec_purchase_frequency = dec_purchase_frequency.sort_values(by='event_time', ascending=False)[:10]\n",
    "print(dec_purchase_frequency)\n",
    "print('-' * 30)\n",
    "jan_purchase_frequency = jan_purchases.groupby('user_id').event_time.count().reset_index()\n",
    "jan_purchase_frequency = jan_purchase_frequency.sort_values(by='event_time', ascending=False)[:10]\n",
    "print(jan_purchase_frequency)"
   ]
  },
  {
   "cell_type": "code",
   "execution_count": 34,
   "metadata": {},
   "outputs": [
    {
     "data": {
      "image/png": "[encoded data removed]",
      "text/plain": [
       "<Figure size 864x360 with 1 Axes>"
      ]
     },
     "metadata": {},
     "output_type": "display_data"
    }
   ],
   "source": [
    "sns.set(style=\"whitegrid\")\n",
    "f, ax = plt.subplots(figsize=(12, 5))\n",
    "plt.ylabel('Total of purchases')\n",
    "plt.xlabel('User ID')\n",
    "ax.set_title('Top 10 Users with more purchases in December 2019')\n",
    "ax = sns.barplot(x=dec_purchase_frequency['user_id'], y=dec_purchase_frequency['event_time'])"
   ]
  },
  {
   "cell_type": "code",
   "execution_count": 33,
   "metadata": {},
   "outputs": [
    {
     "data": {
      "image/png": "[encoded data removed]",
      "text/plain": [
       "<Figure size 864x360 with 1 Axes>"
      ]
     },
     "metadata": {},
     "output_type": "display_data"
    }
   ],
   "source": [
    "sns.set(style=\"whitegrid\")\n",
    "f, ax = plt.subplots(figsize=(12, 5))\n",
    "plt.ylabel('Total of purchases')\n",
    "plt.xlabel('User ID')\n",
    "ax.set_title('Top 10 Users with more purchases in January 2020')\n",
    "ax = sns.barplot(x=jan_purchase_frequency['user_id'], y=jan_purchase_frequency['event_time'])\n"
   ]
  },
  {
   "cell_type": "markdown",
   "metadata": {},
   "source": [
    "We can see that the top buyer in December was the user 494776094 with 14 purchases and in January was the user \n",
    "558030082 with 23 purchases  "
   ]
  },
  {
   "cell_type": "markdown",
   "metadata": {},
   "source": [
    "#### 4- Normal flow \n",
    "There are 4 types of event\n",
    "* View\n",
    "* Cart\n",
    "* Purchase\n",
    "* Remove_from_cart\n",
    "\n",
    "A normal flow in a session should be:\n",
    "\n",
    "#### Start >> VIEW >> CART >> REMOVE/PURCHASE\n"
   ]
  },
  {
   "cell_type": "markdown",
   "metadata": {},
   "source": [
    "We can see the distribution of the events type in each month in a bar chart"
   ]
  },
  {
   "cell_type": "code",
   "execution_count": 187,
   "metadata": {},
   "outputs": [
    {
     "name": "stdout",
     "output_type": "stream",
     "text": [
      "              index  event_type\n",
      "0              view       27842\n",
      "1              cart        8421\n",
      "2  remove_from_cart        4819\n",
      "3          purchase        2111\n",
      "              index  event_type\n",
      "0              view       36306\n",
      "1              cart       11725\n",
      "2  remove_from_cart        6577\n",
      "3          purchase        3160\n"
     ]
    }
   ],
   "source": [
    "events_count_dec= data_Dec_clean['event_type'].value_counts()\n",
    "events_count_dec=events_count_dec.reset_index()\n",
    "events_count_jan= data_Jan_clean['event_type'].value_counts()\n",
    "events_count_jan=events_count_jan.reset_index()\n",
    "print(events_count_dec)\n",
    "print(events_count_jan)"
   ]
  },
  {
   "cell_type": "code",
   "execution_count": 36,
   "metadata": {},
   "outputs": [
    {
     "data": {
      "image/png": "[encoded data removed]",
      "text/plain": [
       "<Figure size 720x360 with 1 Axes>"
      ]
     },
     "metadata": {},
     "output_type": "display_data"
    }
   ],
   "source": [
    "labels = events_count_dec['index'].values.tolist()\n",
    "dec_values_type = events_count_dec['event_type'].values.tolist()\n",
    "jan_values_type = events_count_jan['event_type'].values.tolist()\n",
    "\n",
    "x = np.arange(len(labels))  # the label locations\n",
    "width = 0.35  # the width of the bars\n",
    "\n",
    "fig, ax = plt.subplots(figsize=(10, 5))\n",
    "rects1 = ax.bar(x - width/2, dec_values_type, width, label='December 2019')\n",
    "rects2 = ax.bar(x + width/2, jan_values_type, width, label='January 2020')\n",
    "\n",
    "# Add some text for labels, title and custom x-axis tick labels, etc.\n",
    "ax.set_ylabel('Count')\n",
    "ax.set_title('Distribution of event Type')\n",
    "ax.set_xticks(x)\n",
    "ax.set_xticklabels(labels)\n",
    "\n",
    "ax.legend()\n",
    "autolabel(rects1)\n",
    "autolabel(rects2)\n",
    "\n",
    "fig.tight_layout()\n",
    "\n",
    "plt.show()"
   ]
  },
  {
   "cell_type": "code",
   "execution_count": 205,
   "metadata": {},
   "outputs": [
    {
     "name": "stdout",
     "output_type": "stream",
     "text": [
      "33        2019-12-01\n",
      "52        2019-12-01\n",
      "90        2019-12-01\n",
      "112       2019-12-01\n",
      "138       2019-12-01\n",
      "             ...    \n",
      "3532871   2019-12-31\n",
      "3532874   2019-12-31\n",
      "3533061   2019-12-31\n",
      "3533221   2019-12-31\n",
      "3533226   2019-12-31\n",
      "Name: event_time_day, Length: 43193, dtype: datetime64[ns]\n",
      "359       2020-01-01\n",
      "380       2020-01-01\n",
      "487       2020-01-01\n",
      "907       2020-01-01\n",
      "987       2020-01-01\n",
      "             ...    \n",
      "4264525   2020-01-31\n",
      "4264534   2020-01-31\n",
      "4264594   2020-01-31\n",
      "4264721   2020-01-31\n",
      "4264738   2020-01-31\n",
      "Name: event_time_day, Length: 57768, dtype: datetime64[ns]\n"
     ]
    }
   ],
   "source": [
    "#we transform the event_time to the event day \n",
    "data_Dec_clean_copy = data_Dec_clean.copy()\n",
    "data_Dec_clean_copy['event_time'] = pd.to_datetime(data_Dec_clean_copy['event_time'],infer_datetime_format=True)\n",
    "data_Dec_clean_copy['event_time_day'] = data_Dec_clean_copy['event_time'].dt.date\n",
    "#---\n",
    "data_Jan_clean_copy = data_Jan_clean.copy()\n",
    "data_Jan_clean_copy['event_time'] = pd.to_datetime(data_Jan_clean_copy['event_time'],infer_datetime_format=True)\n",
    "data_Jan_clean_copy['event_time_day'] = data_Jan_clean_copy['event_time'].dt.date\n",
    "#---\n",
    "x_dec = pd.to_datetime(data_Dec_clean_copy['event_time_day'], format='%Y/%m/%d')\n",
    "x_jan = pd.to_datetime(data_Jan_clean_copy['event_time_day'], format='%Y/%m/%d')\n",
    "print(x_dec)\n",
    "print(x_jan)"
   ]
  },
  {
   "cell_type": "code",
   "execution_count": 231,
   "metadata": {},
   "outputs": [
    {
     "name": "stdout",
     "output_type": "stream",
     "text": [
      "    event_time_day event_type   len\n",
      "0       2019-12-02       view  1219\n",
      "1       2019-12-03       view  1217\n",
      "2       2019-12-01       view  1199\n",
      "3       2019-12-04       view  1160\n",
      "4       2019-12-06       view  1158\n",
      "..             ...        ...   ...\n",
      "119     2020-01-11   purchase    72\n",
      "120     2020-01-04   purchase    65\n",
      "121     2020-01-18   purchase    60\n",
      "122     2020-01-02   purchase    49\n",
      "123     2020-01-01   purchase    36\n",
      "\n",
      "[248 rows x 3 columns]\n"
     ]
    }
   ],
   "source": [
    "#we group by event_time_day and event_type\n",
    "events_dec = pd.DataFrame(data_Dec_clean_copy.groupby(['event_time_day','event_type']).event_time_day.agg([len]).sort_values(by='len', ascending=False))\n",
    "events_dec = events_dec.reset_index()\n",
    "#print(events_dec)\n",
    "events_jan = pd.DataFrame(data_Jan_clean_copy.groupby(['event_time_day','event_type']).event_time_day.agg([len]).sort_values(by='len', ascending=False))\n",
    "events_jan = events_jan.reset_index()\n",
    "#print(events_jan)\n",
    "\n",
    "#we concat the dataframes\n",
    "events= pd.concat([events_dec, events_jan])\n",
    "print(events)\n"
   ]
  },
  {
   "cell_type": "code",
   "execution_count": 233,
   "metadata": {},
   "outputs": [],
   "source": [
    "#we filtered for each type of event\n",
    "views = events[events.event_type == 'view']\n",
    "carts = events[events.event_type == 'cart']\n",
    "removes = events[events.event_type == 'remove_from_cart']\n",
    "purchs = events[events.event_type == 'purchase']\n",
    "#print(purch_dec)"
   ]
  },
  {
   "cell_type": "code",
   "execution_count": 273,
   "metadata": {},
   "outputs": [
    {
     "data": {
      "image/png": "[encoded data removed]",
      "text/plain": [
       "<Figure size 720x504 with 1 Axes>"
      ]
     },
     "metadata": {},
     "output_type": "display_data"
    }
   ],
   "source": [
    "#we plot a scatter plot to show the number of event types over the time.\n",
    "fig, ax = plt.subplots()\n",
    "ax.scatter(views['event_time_day'],views['len'], edgecolors = 'none', label = 'View', s = 30, c= 'blue')\n",
    "ax.scatter(carts['event_time_day'],carts['len'], edgecolors = 'none', label = 'Cart', s = 30, c='orange')\n",
    "ax.scatter(removes['event_time_day'],removes['len'], edgecolors = 'none', label = 'Removed from cart', s = 30, c= 'green')\n",
    "ax.scatter(purchs['event_time_day'],purchs['len'], edgecolors = 'none', label = 'Purchases', s = 30, c='red')\n",
    "\n",
    "plt.axis(['2019-11-25','2020-02-05',0,2000])\n",
    "fig.set_size_inches(10,7)\n",
    "ax.grid(True)\n",
    "\n",
    "plt.xlabel('Event Time')\n",
    "plt.ylabel('Number of events')\n",
    "plt.title('Scatterplot of event over time', fontsize =12)\n",
    "plt.legend()\n",
    "plt.show()"
   ]
  },
  {
   "cell_type": "markdown",
   "metadata": {},
   "source": [
    "Using the crosstab function we can see how many events each user have"
   ]
  },
  {
   "cell_type": "code",
   "execution_count": 38,
   "metadata": {},
   "outputs": [
    {
     "data": {
      "text/html": [
       "<div>\n",
       "<style scoped>\n",
       "    .dataframe tbody tr th:only-of-type {\n",
       "        vertical-align: middle;\n",
       "    }\n",
       "\n",
       "    .dataframe tbody tr th {\n",
       "        vertical-align: top;\n",
       "    }\n",
       "\n",
       "    .dataframe thead th {\n",
       "        text-align: right;\n",
       "    }\n",
       "</style>\n",
       "<table border=\"1\" class=\"dataframe\">\n",
       "  <thead>\n",
       "    <tr style=\"text-align: right;\">\n",
       "      <th>event_type</th>\n",
       "      <th>cart</th>\n",
       "      <th>purchase</th>\n",
       "      <th>remove_from_cart</th>\n",
       "      <th>view</th>\n",
       "    </tr>\n",
       "    <tr>\n",
       "      <th>user_id</th>\n",
       "      <th></th>\n",
       "      <th></th>\n",
       "      <th></th>\n",
       "      <th></th>\n",
       "    </tr>\n",
       "  </thead>\n",
       "  <tbody>\n",
       "    <tr>\n",
       "      <td>494776094</td>\n",
       "      <td>31</td>\n",
       "      <td>14</td>\n",
       "      <td>0</td>\n",
       "      <td>10</td>\n",
       "    </tr>\n",
       "    <tr>\n",
       "      <td>591224965</td>\n",
       "      <td>7</td>\n",
       "      <td>13</td>\n",
       "      <td>0</td>\n",
       "      <td>3</td>\n",
       "    </tr>\n",
       "    <tr>\n",
       "      <td>587637758</td>\n",
       "      <td>31</td>\n",
       "      <td>12</td>\n",
       "      <td>14</td>\n",
       "      <td>0</td>\n",
       "    </tr>\n",
       "    <tr>\n",
       "      <td>582066080</td>\n",
       "      <td>10</td>\n",
       "      <td>10</td>\n",
       "      <td>0</td>\n",
       "      <td>0</td>\n",
       "    </tr>\n",
       "    <tr>\n",
       "      <td>487872370</td>\n",
       "      <td>9</td>\n",
       "      <td>9</td>\n",
       "      <td>0</td>\n",
       "      <td>1</td>\n",
       "    </tr>\n",
       "    <tr>\n",
       "      <td>416321822</td>\n",
       "      <td>23</td>\n",
       "      <td>7</td>\n",
       "      <td>6</td>\n",
       "      <td>0</td>\n",
       "    </tr>\n",
       "    <tr>\n",
       "      <td>586026006</td>\n",
       "      <td>9</td>\n",
       "      <td>7</td>\n",
       "      <td>0</td>\n",
       "      <td>0</td>\n",
       "    </tr>\n",
       "    <tr>\n",
       "      <td>582927698</td>\n",
       "      <td>8</td>\n",
       "      <td>7</td>\n",
       "      <td>0</td>\n",
       "      <td>0</td>\n",
       "    </tr>\n",
       "    <tr>\n",
       "      <td>565036131</td>\n",
       "      <td>33</td>\n",
       "      <td>7</td>\n",
       "      <td>12</td>\n",
       "      <td>5</td>\n",
       "    </tr>\n",
       "    <tr>\n",
       "      <td>585472325</td>\n",
       "      <td>6</td>\n",
       "      <td>6</td>\n",
       "      <td>0</td>\n",
       "      <td>0</td>\n",
       "    </tr>\n",
       "  </tbody>\n",
       "</table>\n",
       "</div>"
      ],
      "text/plain": [
       "event_type  cart  purchase  remove_from_cart  view\n",
       "user_id                                           \n",
       "494776094     31        14                 0    10\n",
       "591224965      7        13                 0     3\n",
       "587637758     31        12                14     0\n",
       "582066080     10        10                 0     0\n",
       "487872370      9         9                 0     1\n",
       "416321822     23         7                 6     0\n",
       "586026006      9         7                 0     0\n",
       "582927698      8         7                 0     0\n",
       "565036131     33         7                12     5\n",
       "585472325      6         6                 0     0"
      ]
     },
     "execution_count": 38,
     "metadata": {},
     "output_type": "execute_result"
    }
   ],
   "source": [
    "cross_usev_dec=pd.crosstab(data_Dec_clean['user_id'],data_Dec_clean['event_type'])\n",
    "cross_usev_jan=pd.crosstab(data_Jan_clean['user_id'],data_Jan_clean['event_type'])\n",
    "\n",
    "#we ordered by purchase event ascending, to know how user have the most purchases\n",
    "cross_usev_dec.sort_values(by='purchase',ascending=False).head(10)\n",
    "#print('-' * 50)\n",
    "#print(cross_usev_jan.sort_values(by='purchase',ascending=False).head(10))"
   ]
  },
  {
   "cell_type": "markdown",
   "metadata": {},
   "source": [
    "We can see some extrange behaviors. For example there are users with 0 views but with items in chart or in purchase or removed.\n",
    "We will be interested in the flows with the normal behavior. Let's filter our data keeping this in mind"
   ]
  },
  {
   "cell_type": "code",
   "execution_count": 39,
   "metadata": {},
   "outputs": [
    {
     "name": "stdout",
     "output_type": "stream",
     "text": [
      "event_type  cart  purchase  remove_from_cart  view\n",
      "user_id                                           \n",
      "578503834      5         5                 0    19\n",
      "578762675      4         4                 0     4\n",
      "583898370      4         4                 0     6\n",
      "592578639      4         4                 0     5\n",
      "582970394      4         4                 0     8\n",
      "581360590      3         3                 0     5\n",
      "588389232      2         2                 0     3\n",
      "446756658      3         2                 1     6\n",
      "395968291      2         2                 0    12\n",
      "580674625      2         2                 0     2\n",
      "--------------------------------------------------\n",
      "event_type  cart  purchase  remove_from_cart  view\n",
      "user_id                                           \n",
      "591195223      6         6                 0     6\n",
      "576965547      4         4                 0    10\n",
      "464586898     11         4                 7    76\n",
      "524723064      4         4                 0     7\n",
      "589187852      3         3                 0     3\n",
      "591254787      3         3                 0    19\n",
      "606852422      6         3                 3     6\n",
      "568199467      3         3                 0     8\n",
      "607293819      3         3                 0     3\n",
      "600458179      3         3                 0     7\n"
     ]
    }
   ],
   "source": [
    "#filter data with number of purchases and removed less or equal to items in cart\n",
    "filter1 = (cross_usev_dec['purchase'] + cross_usev_dec['remove_from_cart']) == cross_usev_dec['cart']\n",
    "filter3 = (cross_usev_jan['purchase'] + cross_usev_jan['remove_from_cart']) == cross_usev_jan['cart']\n",
    "\n",
    "#filter data with number of items in view less or equal to number of items in cart\n",
    "filter2 = cross_usev_dec['cart'] <= cross_usev_dec['view']\n",
    "filter4 = cross_usev_jan['cart'] <= cross_usev_jan['view']\n",
    "\n",
    "\n",
    "cross_usev_dec_filtered= cross_usev_dec[filter1 & filter2]\n",
    "cross_usev_jan_filtered= cross_usev_jan[filter3 & filter4]\n",
    "\n",
    "print(cross_usev_dec_filtered.sort_values(by='purchase',ascending=False).head(10))\n",
    "print('-' * 50)\n",
    "print(cross_usev_jan_filtered.sort_values(by='purchase',ascending=False).head(10))"
   ]
  },
  {
   "cell_type": "markdown",
   "metadata": {},
   "source": [
    "Let's plot the number of items purchased related to de items in cart and view"
   ]
  },
  {
   "cell_type": "code",
   "execution_count": 40,
   "metadata": {},
   "outputs": [
    {
     "data": {
      "text/plain": [
       "<matplotlib.axes._subplots.AxesSubplot at 0x2b40151b648>"
      ]
     },
     "execution_count": 40,
     "metadata": {},
     "output_type": "execute_result"
    },
    {
     "data": {
      "image/png": "[encoded data removed]",
      "text/plain": [
       "<Figure size 864x360 with 2 Axes>"
      ]
     },
     "metadata": {},
     "output_type": "display_data"
    }
   ],
   "source": [
    "fig, ax = plt.subplots()\n",
    "ax.set_title('December 2019 purchases items related to cart and view')\n",
    "purchaser=cross_usev_dec_filtered.loc[cross_usev_dec_filtered['purchase']>0]\n",
    "#print(purchaser.sort_values(by='purchase',ascending=False).head(10))\n",
    "#print(purchaser.describe())\n",
    "cross_usev_jan_filtered.plot(kind='scatter',x='view',y='cart',c='purchase',s=20,colormap='PiYG', figsize=(12,5), xlim=(0,70), ylim=(0,20), ax=ax)"
   ]
  },
  {
   "cell_type": "code",
   "execution_count": 41,
   "metadata": {},
   "outputs": [
    {
     "data": {
      "text/plain": [
       "<matplotlib.axes._subplots.AxesSubplot at 0x2b4014ebd08>"
      ]
     },
     "execution_count": 41,
     "metadata": {},
     "output_type": "execute_result"
    },
    {
     "data": {
      "image/png": "[encoded data removed]",
      "text/plain": [
       "<Figure size 864x360 with 2 Axes>"
      ]
     },
     "metadata": {},
     "output_type": "display_data"
    }
   ],
   "source": [
    "fig, ax = plt.subplots()\n",
    "ax.set_title('January 2020 purchases items related to cart and view')\n",
    "purchaser=cross_usev_jan_filtered.loc[cross_usev_jan_filtered['purchase']>0]\n",
    "#print(purchaser.sort_values(by='purchase',ascending=False).head(10))\n",
    "#print(purchaser.describe())\n",
    "cross_usev_jan_filtered.plot(kind='scatter',x='view',y='cart',c='purchase',s=20,colormap='PiYG', figsize=(12,5), xlim=(0,70), ylim=(0,20), ax=ax)"
   ]
  },
  {
   "cell_type": "markdown",
   "metadata": {},
   "source": [
    "<p style=\"font-family: Arial; font-size:1.75em;color:purple; font-style:bold\">Convert to a Classification Task</p> "
   ]
  },
  {
   "cell_type": "markdown",
   "metadata": {},
   "source": [
    "Knowing the next purchase day for a product is a good indicator for predicting sales\n",
    "### Can we predicting the Next Purchase Day of a product?"
   ]
  },
  {
   "cell_type": "markdown",
   "metadata": {},
   "source": [
    "Now we are going to prepare the data to applied some machine learning algorithm for classification.\n"
   ]
  },
  {
   "cell_type": "code",
   "execution_count": 274,
   "metadata": {},
   "outputs": [
    {
     "name": "stdout",
     "output_type": "stream",
     "text": [
      "(43193, 9)\n",
      "(57768, 9)\n",
      "(100961, 9)\n"
     ]
    }
   ],
   "source": [
    "#First we are going to join both datasets\n",
    "data_concat = pd.concat([data_Dec_clean, data_Jan_clean])\n",
    "print(data_Dec_clean.shape)\n",
    "print(data_Jan_clean.shape)\n",
    "print(data_concat.shape)"
   ]
  },
  {
   "cell_type": "code",
   "execution_count": 275,
   "metadata": {},
   "outputs": [],
   "source": [
    "#change the event_time to datetime\n",
    "data_concat['event_time'] = pd.to_datetime(data_concat['event_time'],infer_datetime_format=True)\n"
   ]
  },
  {
   "cell_type": "markdown",
   "metadata": {},
   "source": [
    "First, we only take the purchases\n"
   ]
  },
  {
   "cell_type": "code",
   "execution_count": 276,
   "metadata": {},
   "outputs": [
    {
     "data": {
      "text/html": [
       "<div>\n",
       "<style scoped>\n",
       "    .dataframe tbody tr th:only-of-type {\n",
       "        vertical-align: middle;\n",
       "    }\n",
       "\n",
       "    .dataframe tbody tr th {\n",
       "        vertical-align: top;\n",
       "    }\n",
       "\n",
       "    .dataframe thead th {\n",
       "        text-align: right;\n",
       "    }\n",
       "</style>\n",
       "<table border=\"1\" class=\"dataframe\">\n",
       "  <thead>\n",
       "    <tr style=\"text-align: right;\">\n",
       "      <th></th>\n",
       "      <th>index</th>\n",
       "      <th>event_time</th>\n",
       "      <th>event_type</th>\n",
       "      <th>product_id</th>\n",
       "      <th>category_id</th>\n",
       "      <th>category_code</th>\n",
       "      <th>brand</th>\n",
       "      <th>price</th>\n",
       "      <th>user_id</th>\n",
       "      <th>user_session</th>\n",
       "    </tr>\n",
       "  </thead>\n",
       "  <tbody>\n",
       "    <tr>\n",
       "      <td>0</td>\n",
       "      <td>2402</td>\n",
       "      <td>2019-12-01 01:18:32</td>\n",
       "      <td>purchase</td>\n",
       "      <td>5873430</td>\n",
       "      <td>2007399943458784057</td>\n",
       "      <td>apparel.glove</td>\n",
       "      <td>benovy</td>\n",
       "      <td>7.46</td>\n",
       "      <td>356011474</td>\n",
       "      <td>e38133d8-bd17-e4e1-194f-e01d325312db</td>\n",
       "    </tr>\n",
       "    <tr>\n",
       "      <td>1</td>\n",
       "      <td>3221</td>\n",
       "      <td>2019-12-01 02:09:57</td>\n",
       "      <td>purchase</td>\n",
       "      <td>5861766</td>\n",
       "      <td>1487580006350586771</td>\n",
       "      <td>appliances.environment.vacuum</td>\n",
       "      <td>emil</td>\n",
       "      <td>1.75</td>\n",
       "      <td>443163709</td>\n",
       "      <td>87e41332-2083-4a2e-b39c-ddfe5b7b5016</td>\n",
       "    </tr>\n",
       "    <tr>\n",
       "      <td>2</td>\n",
       "      <td>11617</td>\n",
       "      <td>2019-12-01 06:26:22</td>\n",
       "      <td>purchase</td>\n",
       "      <td>5889695</td>\n",
       "      <td>2007399943458784057</td>\n",
       "      <td>apparel.glove</td>\n",
       "      <td>nitrile</td>\n",
       "      <td>9.52</td>\n",
       "      <td>557560536</td>\n",
       "      <td>47f5315d-409a-4244-9fab-5e8778bdea16</td>\n",
       "    </tr>\n",
       "    <tr>\n",
       "      <td>3</td>\n",
       "      <td>11618</td>\n",
       "      <td>2019-12-01 06:26:22</td>\n",
       "      <td>purchase</td>\n",
       "      <td>5889696</td>\n",
       "      <td>2007399943458784057</td>\n",
       "      <td>apparel.glove</td>\n",
       "      <td>nitrile</td>\n",
       "      <td>9.52</td>\n",
       "      <td>557560536</td>\n",
       "      <td>47f5315d-409a-4244-9fab-5e8778bdea16</td>\n",
       "    </tr>\n",
       "    <tr>\n",
       "      <td>4</td>\n",
       "      <td>15905</td>\n",
       "      <td>2019-12-01 07:26:17</td>\n",
       "      <td>purchase</td>\n",
       "      <td>5746974</td>\n",
       "      <td>2193074740686488401</td>\n",
       "      <td>furniture.bathroom.bath</td>\n",
       "      <td>irisk</td>\n",
       "      <td>52.70</td>\n",
       "      <td>534305618</td>\n",
       "      <td>b0da4726-fce4-4e8c-a498-8cb41549463f</td>\n",
       "    </tr>\n",
       "  </tbody>\n",
       "</table>\n",
       "</div>"
      ],
      "text/plain": [
       "   index          event_time event_type  product_id          category_id  \\\n",
       "0   2402 2019-12-01 01:18:32   purchase     5873430  2007399943458784057   \n",
       "1   3221 2019-12-01 02:09:57   purchase     5861766  1487580006350586771   \n",
       "2  11617 2019-12-01 06:26:22   purchase     5889695  2007399943458784057   \n",
       "3  11618 2019-12-01 06:26:22   purchase     5889696  2007399943458784057   \n",
       "4  15905 2019-12-01 07:26:17   purchase     5746974  2193074740686488401   \n",
       "\n",
       "                   category_code    brand  price    user_id  \\\n",
       "0                  apparel.glove   benovy   7.46  356011474   \n",
       "1  appliances.environment.vacuum     emil   1.75  443163709   \n",
       "2                  apparel.glove  nitrile   9.52  557560536   \n",
       "3                  apparel.glove  nitrile   9.52  557560536   \n",
       "4        furniture.bathroom.bath    irisk  52.70  534305618   \n",
       "\n",
       "                           user_session  \n",
       "0  e38133d8-bd17-e4e1-194f-e01d325312db  \n",
       "1  87e41332-2083-4a2e-b39c-ddfe5b7b5016  \n",
       "2  47f5315d-409a-4244-9fab-5e8778bdea16  \n",
       "3  47f5315d-409a-4244-9fab-5e8778bdea16  \n",
       "4  b0da4726-fce4-4e8c-a498-8cb41549463f  "
      ]
     },
     "execution_count": 276,
     "metadata": {},
     "output_type": "execute_result"
    }
   ],
   "source": [
    "#we only take the purchases\n",
    "data_concat_purch = data_concat.loc[data_concat[\"event_type\"].isin([\"purchase\"])]\n",
    "\n",
    "data_concat_purch = data_concat_purch.reset_index()\n",
    "data_concat_purch.head()\n",
    "#print(data_concat_purch.loc[data_concat_purch.user_id == 494776094])"
   ]
  },
  {
   "cell_type": "code",
   "execution_count": 277,
   "metadata": {},
   "outputs": [
    {
     "data": {
      "text/html": [
       "<div>\n",
       "<style scoped>\n",
       "    .dataframe tbody tr th:only-of-type {\n",
       "        vertical-align: middle;\n",
       "    }\n",
       "\n",
       "    .dataframe tbody tr th {\n",
       "        vertical-align: top;\n",
       "    }\n",
       "\n",
       "    .dataframe thead th {\n",
       "        text-align: right;\n",
       "    }\n",
       "</style>\n",
       "<table border=\"1\" class=\"dataframe\">\n",
       "  <thead>\n",
       "    <tr style=\"text-align: right;\">\n",
       "      <th></th>\n",
       "      <th>user_id</th>\n",
       "      <th>event_time</th>\n",
       "      <th>product_id</th>\n",
       "    </tr>\n",
       "  </thead>\n",
       "  <tbody>\n",
       "    <tr>\n",
       "      <td>0</td>\n",
       "      <td>356011474</td>\n",
       "      <td>2019-12-01 01:18:32</td>\n",
       "      <td>5873430</td>\n",
       "    </tr>\n",
       "    <tr>\n",
       "      <td>1</td>\n",
       "      <td>443163709</td>\n",
       "      <td>2019-12-01 02:09:57</td>\n",
       "      <td>5861766</td>\n",
       "    </tr>\n",
       "    <tr>\n",
       "      <td>2</td>\n",
       "      <td>557560536</td>\n",
       "      <td>2019-12-01 06:26:22</td>\n",
       "      <td>5889695</td>\n",
       "    </tr>\n",
       "    <tr>\n",
       "      <td>3</td>\n",
       "      <td>557560536</td>\n",
       "      <td>2019-12-01 06:26:22</td>\n",
       "      <td>5889696</td>\n",
       "    </tr>\n",
       "    <tr>\n",
       "      <td>4</td>\n",
       "      <td>534305618</td>\n",
       "      <td>2019-12-01 07:26:17</td>\n",
       "      <td>5746974</td>\n",
       "    </tr>\n",
       "  </tbody>\n",
       "</table>\n",
       "</div>"
      ],
      "text/plain": [
       "     user_id          event_time  product_id\n",
       "0  356011474 2019-12-01 01:18:32     5873430\n",
       "1  443163709 2019-12-01 02:09:57     5861766\n",
       "2  557560536 2019-12-01 06:26:22     5889695\n",
       "3  557560536 2019-12-01 06:26:22     5889696\n",
       "4  534305618 2019-12-01 07:26:17     5746974"
      ]
     },
     "execution_count": 277,
     "metadata": {},
     "output_type": "execute_result"
    }
   ],
   "source": [
    "#create a dataframe with User_id, product_id and event_time Date\n",
    "tx_day_order = data_concat_purch[['user_id','event_time','product_id']]\n",
    "tx_day_order.head()\n",
    "#print(tx_day_order.loc[tx_day_order.user_id == 494776094])"
   ]
  },
  {
   "cell_type": "markdown",
   "metadata": {},
   "source": [
    "Next we need to calculate our labels (days between last purchase and first purchase after that) and the features"
   ]
  },
  {
   "cell_type": "code",
   "execution_count": 278,
   "metadata": {},
   "outputs": [],
   "source": [
    "#first we created un new dataframe with the distints products id\n",
    "tx_product = pd.DataFrame(data_concat_purch['product_id'].unique())\n",
    "tx_product.columns = ['product_id']\n",
    "#tx_product"
   ]
  },
  {
   "cell_type": "code",
   "execution_count": 279,
   "metadata": {},
   "outputs": [
    {
     "data": {
      "text/html": [
       "<div>\n",
       "<style scoped>\n",
       "    .dataframe tbody tr th:only-of-type {\n",
       "        vertical-align: middle;\n",
       "    }\n",
       "\n",
       "    .dataframe tbody tr th {\n",
       "        vertical-align: top;\n",
       "    }\n",
       "\n",
       "    .dataframe thead th {\n",
       "        text-align: right;\n",
       "    }\n",
       "</style>\n",
       "<table border=\"1\" class=\"dataframe\">\n",
       "  <thead>\n",
       "    <tr style=\"text-align: right;\">\n",
       "      <th></th>\n",
       "      <th>product_id</th>\n",
       "      <th>MinPurchaseDate</th>\n",
       "    </tr>\n",
       "  </thead>\n",
       "  <tbody>\n",
       "    <tr>\n",
       "      <td>0</td>\n",
       "      <td>5395</td>\n",
       "      <td>2019-12-14 14:19:26</td>\n",
       "    </tr>\n",
       "    <tr>\n",
       "      <td>1</td>\n",
       "      <td>8372</td>\n",
       "      <td>2019-12-06 08:00:56</td>\n",
       "    </tr>\n",
       "    <tr>\n",
       "      <td>2</td>\n",
       "      <td>8373</td>\n",
       "      <td>2020-01-28 07:27:43</td>\n",
       "    </tr>\n",
       "    <tr>\n",
       "      <td>3</td>\n",
       "      <td>24330</td>\n",
       "      <td>2019-12-05 08:44:04</td>\n",
       "    </tr>\n",
       "    <tr>\n",
       "      <td>4</td>\n",
       "      <td>24331</td>\n",
       "      <td>2019-12-02 19:57:58</td>\n",
       "    </tr>\n",
       "  </tbody>\n",
       "</table>\n",
       "</div>"
      ],
      "text/plain": [
       "   product_id     MinPurchaseDate\n",
       "0        5395 2019-12-14 14:19:26\n",
       "1        8372 2019-12-06 08:00:56\n",
       "2        8373 2020-01-28 07:27:43\n",
       "3       24330 2019-12-05 08:44:04\n",
       "4       24331 2019-12-02 19:57:58"
      ]
     },
     "execution_count": 279,
     "metadata": {},
     "output_type": "execute_result"
    }
   ],
   "source": [
    "# next create a dataframe with product_id and first purchase date \n",
    "tx_next_first_purchase = data_concat_purch.groupby('product_id').event_time.min().reset_index()\n",
    "tx_next_first_purchase.columns = ['product_id','MinPurchaseDate']\n",
    "tx_next_first_purchase.head()"
   ]
  },
  {
   "cell_type": "code",
   "execution_count": 280,
   "metadata": {},
   "outputs": [
    {
     "data": {
      "text/html": [
       "<div>\n",
       "<style scoped>\n",
       "    .dataframe tbody tr th:only-of-type {\n",
       "        vertical-align: middle;\n",
       "    }\n",
       "\n",
       "    .dataframe tbody tr th {\n",
       "        vertical-align: top;\n",
       "    }\n",
       "\n",
       "    .dataframe thead th {\n",
       "        text-align: right;\n",
       "    }\n",
       "</style>\n",
       "<table border=\"1\" class=\"dataframe\">\n",
       "  <thead>\n",
       "    <tr style=\"text-align: right;\">\n",
       "      <th></th>\n",
       "      <th>product_id</th>\n",
       "      <th>MaxPurchaseDate</th>\n",
       "    </tr>\n",
       "  </thead>\n",
       "  <tbody>\n",
       "    <tr>\n",
       "      <td>0</td>\n",
       "      <td>5395</td>\n",
       "      <td>2020-01-28 17:56:55</td>\n",
       "    </tr>\n",
       "    <tr>\n",
       "      <td>1</td>\n",
       "      <td>8372</td>\n",
       "      <td>2020-01-13 08:44:00</td>\n",
       "    </tr>\n",
       "    <tr>\n",
       "      <td>2</td>\n",
       "      <td>8373</td>\n",
       "      <td>2020-01-28 07:27:43</td>\n",
       "    </tr>\n",
       "    <tr>\n",
       "      <td>3</td>\n",
       "      <td>24330</td>\n",
       "      <td>2020-01-28 16:17:51</td>\n",
       "    </tr>\n",
       "    <tr>\n",
       "      <td>4</td>\n",
       "      <td>24331</td>\n",
       "      <td>2020-01-29 15:39:10</td>\n",
       "    </tr>\n",
       "  </tbody>\n",
       "</table>\n",
       "</div>"
      ],
      "text/plain": [
       "   product_id     MaxPurchaseDate\n",
       "0        5395 2020-01-28 17:56:55\n",
       "1        8372 2020-01-13 08:44:00\n",
       "2        8373 2020-01-28 07:27:43\n",
       "3       24330 2020-01-28 16:17:51\n",
       "4       24331 2020-01-29 15:39:10"
      ]
     },
     "execution_count": 280,
     "metadata": {},
     "output_type": "execute_result"
    }
   ],
   "source": [
    "#next create a dataframe with customer id and last purchase date \n",
    "tx_last_purchase = data_concat_purch.groupby('product_id').event_time.max().reset_index()\n",
    "tx_last_purchase.columns = ['product_id','MaxPurchaseDate']\n",
    "tx_last_purchase.head()"
   ]
  },
  {
   "cell_type": "code",
   "execution_count": 281,
   "metadata": {},
   "outputs": [
    {
     "data": {
      "text/html": [
       "<div>\n",
       "<style scoped>\n",
       "    .dataframe tbody tr th:only-of-type {\n",
       "        vertical-align: middle;\n",
       "    }\n",
       "\n",
       "    .dataframe tbody tr th {\n",
       "        vertical-align: top;\n",
       "    }\n",
       "\n",
       "    .dataframe thead th {\n",
       "        text-align: right;\n",
       "    }\n",
       "</style>\n",
       "<table border=\"1\" class=\"dataframe\">\n",
       "  <thead>\n",
       "    <tr style=\"text-align: right;\">\n",
       "      <th></th>\n",
       "      <th>product_id</th>\n",
       "      <th>MaxPurchaseDate</th>\n",
       "      <th>MinPurchaseDate</th>\n",
       "    </tr>\n",
       "  </thead>\n",
       "  <tbody>\n",
       "    <tr>\n",
       "      <td>0</td>\n",
       "      <td>5395</td>\n",
       "      <td>2020-01-28 17:56:55</td>\n",
       "      <td>2019-12-14 14:19:26</td>\n",
       "    </tr>\n",
       "    <tr>\n",
       "      <td>1</td>\n",
       "      <td>8372</td>\n",
       "      <td>2020-01-13 08:44:00</td>\n",
       "      <td>2019-12-06 08:00:56</td>\n",
       "    </tr>\n",
       "    <tr>\n",
       "      <td>2</td>\n",
       "      <td>8373</td>\n",
       "      <td>2020-01-28 07:27:43</td>\n",
       "      <td>2020-01-28 07:27:43</td>\n",
       "    </tr>\n",
       "    <tr>\n",
       "      <td>3</td>\n",
       "      <td>24330</td>\n",
       "      <td>2020-01-28 16:17:51</td>\n",
       "      <td>2019-12-05 08:44:04</td>\n",
       "    </tr>\n",
       "    <tr>\n",
       "      <td>4</td>\n",
       "      <td>24331</td>\n",
       "      <td>2020-01-29 15:39:10</td>\n",
       "      <td>2019-12-02 19:57:58</td>\n",
       "    </tr>\n",
       "  </tbody>\n",
       "</table>\n",
       "</div>"
      ],
      "text/plain": [
       "   product_id     MaxPurchaseDate     MinPurchaseDate\n",
       "0        5395 2020-01-28 17:56:55 2019-12-14 14:19:26\n",
       "1        8372 2020-01-13 08:44:00 2019-12-06 08:00:56\n",
       "2        8373 2020-01-28 07:27:43 2020-01-28 07:27:43\n",
       "3       24330 2020-01-28 16:17:51 2019-12-05 08:44:04\n",
       "4       24331 2020-01-29 15:39:10 2019-12-02 19:57:58"
      ]
     },
     "execution_count": 281,
     "metadata": {},
     "output_type": "execute_result"
    }
   ],
   "source": [
    "#merge two dataframes\n",
    "tx_purchase_dates = pd.merge(tx_last_purchase,tx_next_first_purchase,on='product_id',how='left')\n",
    "tx_purchase_dates.head()"
   ]
  },
  {
   "cell_type": "code",
   "execution_count": 282,
   "metadata": {},
   "outputs": [
    {
     "data": {
      "text/html": [
       "<div>\n",
       "<style scoped>\n",
       "    .dataframe tbody tr th:only-of-type {\n",
       "        vertical-align: middle;\n",
       "    }\n",
       "\n",
       "    .dataframe tbody tr th {\n",
       "        vertical-align: top;\n",
       "    }\n",
       "\n",
       "    .dataframe thead th {\n",
       "        text-align: right;\n",
       "    }\n",
       "</style>\n",
       "<table border=\"1\" class=\"dataframe\">\n",
       "  <thead>\n",
       "    <tr style=\"text-align: right;\">\n",
       "      <th></th>\n",
       "      <th>product_id</th>\n",
       "      <th>MaxPurchaseDate</th>\n",
       "      <th>MinPurchaseDate</th>\n",
       "      <th>NextPurchaseDay</th>\n",
       "    </tr>\n",
       "  </thead>\n",
       "  <tbody>\n",
       "    <tr>\n",
       "      <td>0</td>\n",
       "      <td>5395</td>\n",
       "      <td>2020-01-28 17:56:55</td>\n",
       "      <td>2019-12-14 14:19:26</td>\n",
       "      <td>45</td>\n",
       "    </tr>\n",
       "    <tr>\n",
       "      <td>1</td>\n",
       "      <td>8372</td>\n",
       "      <td>2020-01-13 08:44:00</td>\n",
       "      <td>2019-12-06 08:00:56</td>\n",
       "      <td>38</td>\n",
       "    </tr>\n",
       "    <tr>\n",
       "      <td>2</td>\n",
       "      <td>8373</td>\n",
       "      <td>2020-01-28 07:27:43</td>\n",
       "      <td>2020-01-28 07:27:43</td>\n",
       "      <td>0</td>\n",
       "    </tr>\n",
       "    <tr>\n",
       "      <td>3</td>\n",
       "      <td>24330</td>\n",
       "      <td>2020-01-28 16:17:51</td>\n",
       "      <td>2019-12-05 08:44:04</td>\n",
       "      <td>54</td>\n",
       "    </tr>\n",
       "    <tr>\n",
       "      <td>4</td>\n",
       "      <td>24331</td>\n",
       "      <td>2020-01-29 15:39:10</td>\n",
       "      <td>2019-12-02 19:57:58</td>\n",
       "      <td>57</td>\n",
       "    </tr>\n",
       "  </tbody>\n",
       "</table>\n",
       "</div>"
      ],
      "text/plain": [
       "   product_id     MaxPurchaseDate     MinPurchaseDate  NextPurchaseDay\n",
       "0        5395 2020-01-28 17:56:55 2019-12-14 14:19:26               45\n",
       "1        8372 2020-01-13 08:44:00 2019-12-06 08:00:56               38\n",
       "2        8373 2020-01-28 07:27:43 2020-01-28 07:27:43                0\n",
       "3       24330 2020-01-28 16:17:51 2019-12-05 08:44:04               54\n",
       "4       24331 2020-01-29 15:39:10 2019-12-02 19:57:58               57"
      ]
     },
     "execution_count": 282,
     "metadata": {},
     "output_type": "execute_result"
    }
   ],
   "source": [
    "#calculate the time difference in days:\n",
    "tx_purchase_dates['NextPurchaseDay'] = (tx_purchase_dates['MaxPurchaseDate'] - tx_purchase_dates['MinPurchaseDate']).dt.days\n",
    "tx_purchase_dates.head()"
   ]
  },
  {
   "cell_type": "code",
   "execution_count": 283,
   "metadata": {},
   "outputs": [
    {
     "data": {
      "text/html": [
       "<div>\n",
       "<style scoped>\n",
       "    .dataframe tbody tr th:only-of-type {\n",
       "        vertical-align: middle;\n",
       "    }\n",
       "\n",
       "    .dataframe tbody tr th {\n",
       "        vertical-align: top;\n",
       "    }\n",
       "\n",
       "    .dataframe thead th {\n",
       "        text-align: right;\n",
       "    }\n",
       "</style>\n",
       "<table border=\"1\" class=\"dataframe\">\n",
       "  <thead>\n",
       "    <tr style=\"text-align: right;\">\n",
       "      <th></th>\n",
       "      <th>product_id</th>\n",
       "      <th>NextPurchaseDay</th>\n",
       "    </tr>\n",
       "  </thead>\n",
       "  <tbody>\n",
       "    <tr>\n",
       "      <td>0</td>\n",
       "      <td>5873430</td>\n",
       "      <td>58</td>\n",
       "    </tr>\n",
       "    <tr>\n",
       "      <td>1</td>\n",
       "      <td>5861766</td>\n",
       "      <td>54</td>\n",
       "    </tr>\n",
       "    <tr>\n",
       "      <td>2</td>\n",
       "      <td>5889695</td>\n",
       "      <td>61</td>\n",
       "    </tr>\n",
       "    <tr>\n",
       "      <td>3</td>\n",
       "      <td>5889696</td>\n",
       "      <td>60</td>\n",
       "    </tr>\n",
       "    <tr>\n",
       "      <td>4</td>\n",
       "      <td>5746974</td>\n",
       "      <td>61</td>\n",
       "    </tr>\n",
       "  </tbody>\n",
       "</table>\n",
       "</div>"
      ],
      "text/plain": [
       "   product_id  NextPurchaseDay\n",
       "0     5873430               58\n",
       "1     5861766               54\n",
       "2     5889695               61\n",
       "3     5889696               60\n",
       "4     5746974               61"
      ]
     },
     "execution_count": 283,
     "metadata": {},
     "output_type": "execute_result"
    }
   ],
   "source": [
    "#merge with tx_product \n",
    "tx_product = pd.merge(tx_product, tx_purchase_dates[['product_id','NextPurchaseDay']],on='product_id',how='left')\n",
    "#fill NA values with 999\n",
    "tx_product = tx_product.fillna(999)\n",
    "tx_product.head()"
   ]
  },
  {
   "cell_type": "markdown",
   "metadata": {},
   "source": [
    "Back to the tx_day_order dataframe:"
   ]
  },
  {
   "cell_type": "code",
   "execution_count": 284,
   "metadata": {},
   "outputs": [
    {
     "name": "stderr",
     "output_type": "stream",
     "text": [
      "C:\\Users\\clara.o.villalba\\AppData\\Local\\Continuum\\anaconda3\\lib\\site-packages\\ipykernel_launcher.py:2: SettingWithCopyWarning: \n",
      "A value is trying to be set on a copy of a slice from a DataFrame.\n",
      "Try using .loc[row_indexer,col_indexer] = value instead\n",
      "\n",
      "See the caveats in the documentation: http://pandas.pydata.org/pandas-docs/stable/user_guide/indexing.html#returning-a-view-versus-a-copy\n",
      "  \n"
     ]
    },
    {
     "data": {
      "text/html": [
       "<div>\n",
       "<style scoped>\n",
       "    .dataframe tbody tr th:only-of-type {\n",
       "        vertical-align: middle;\n",
       "    }\n",
       "\n",
       "    .dataframe tbody tr th {\n",
       "        vertical-align: top;\n",
       "    }\n",
       "\n",
       "    .dataframe thead th {\n",
       "        text-align: right;\n",
       "    }\n",
       "</style>\n",
       "<table border=\"1\" class=\"dataframe\">\n",
       "  <thead>\n",
       "    <tr style=\"text-align: right;\">\n",
       "      <th></th>\n",
       "      <th>user_id</th>\n",
       "      <th>event_time</th>\n",
       "      <th>product_id</th>\n",
       "      <th>PurchaseDay</th>\n",
       "    </tr>\n",
       "  </thead>\n",
       "  <tbody>\n",
       "    <tr>\n",
       "      <td>997</td>\n",
       "      <td>568407203</td>\n",
       "      <td>2019-12-14 14:19:26</td>\n",
       "      <td>5395</td>\n",
       "      <td>2019-12-14</td>\n",
       "    </tr>\n",
       "    <tr>\n",
       "      <td>1609</td>\n",
       "      <td>450923816</td>\n",
       "      <td>2019-12-23 04:03:22</td>\n",
       "      <td>5395</td>\n",
       "      <td>2019-12-23</td>\n",
       "    </tr>\n",
       "    <tr>\n",
       "      <td>1732</td>\n",
       "      <td>585040980</td>\n",
       "      <td>2019-12-24 09:23:23</td>\n",
       "      <td>5395</td>\n",
       "      <td>2019-12-24</td>\n",
       "    </tr>\n",
       "    <tr>\n",
       "      <td>2038</td>\n",
       "      <td>562973122</td>\n",
       "      <td>2019-12-29 14:01:58</td>\n",
       "      <td>5395</td>\n",
       "      <td>2019-12-29</td>\n",
       "    </tr>\n",
       "    <tr>\n",
       "      <td>2067</td>\n",
       "      <td>586595889</td>\n",
       "      <td>2019-12-30 06:37:42</td>\n",
       "      <td>5395</td>\n",
       "      <td>2019-12-30</td>\n",
       "    </tr>\n",
       "  </tbody>\n",
       "</table>\n",
       "</div>"
      ],
      "text/plain": [
       "        user_id          event_time  product_id PurchaseDay\n",
       "997   568407203 2019-12-14 14:19:26        5395  2019-12-14\n",
       "1609  450923816 2019-12-23 04:03:22        5395  2019-12-23\n",
       "1732  585040980 2019-12-24 09:23:23        5395  2019-12-24\n",
       "2038  562973122 2019-12-29 14:01:58        5395  2019-12-29\n",
       "2067  586595889 2019-12-30 06:37:42        5395  2019-12-30"
      ]
     },
     "execution_count": 284,
     "metadata": {},
     "output_type": "execute_result"
    }
   ],
   "source": [
    "#convert event time to day\n",
    "tx_day_order['PurchaseDay'] = data_concat_purch['event_time'].dt.date\n",
    "tx_day_order = tx_day_order.sort_values(['product_id','event_time'])\n",
    "#print(tx_day_order.loc[tx_day_order.product_id == 5766980 ].head())\n",
    "\n",
    "#drop duplicates\n",
    "#Then we will remove the duplicates since customers can do multiple purchases of the same product in a day \n",
    "tx_day_order = tx_day_order.drop_duplicates(subset=['PurchaseDay','product_id'],keep='first')\n",
    "#print(tx_day_order.loc[tx_day_order.product_id == 5766980 ].head())\n",
    "tx_day_order.head()"
   ]
  },
  {
   "cell_type": "markdown",
   "metadata": {},
   "source": [
    "Now we need to get the last 3 dates the product was purchased, to do that we use the shift() function"
   ]
  },
  {
   "cell_type": "code",
   "execution_count": 285,
   "metadata": {},
   "outputs": [
    {
     "data": {
      "text/html": [
       "<div>\n",
       "<style scoped>\n",
       "    .dataframe tbody tr th:only-of-type {\n",
       "        vertical-align: middle;\n",
       "    }\n",
       "\n",
       "    .dataframe tbody tr th {\n",
       "        vertical-align: top;\n",
       "    }\n",
       "\n",
       "    .dataframe thead th {\n",
       "        text-align: right;\n",
       "    }\n",
       "</style>\n",
       "<table border=\"1\" class=\"dataframe\">\n",
       "  <thead>\n",
       "    <tr style=\"text-align: right;\">\n",
       "      <th></th>\n",
       "      <th>user_id</th>\n",
       "      <th>event_time</th>\n",
       "      <th>product_id</th>\n",
       "      <th>PurchaseDay</th>\n",
       "      <th>PrevPurchaseDate</th>\n",
       "      <th>T2PurchaseDate</th>\n",
       "      <th>T3PurchaseDate</th>\n",
       "    </tr>\n",
       "  </thead>\n",
       "  <tbody>\n",
       "    <tr>\n",
       "      <td>997</td>\n",
       "      <td>568407203</td>\n",
       "      <td>2019-12-14 14:19:26</td>\n",
       "      <td>5395</td>\n",
       "      <td>2019-12-14</td>\n",
       "      <td>NaN</td>\n",
       "      <td>NaN</td>\n",
       "      <td>NaN</td>\n",
       "    </tr>\n",
       "    <tr>\n",
       "      <td>1609</td>\n",
       "      <td>450923816</td>\n",
       "      <td>2019-12-23 04:03:22</td>\n",
       "      <td>5395</td>\n",
       "      <td>2019-12-23</td>\n",
       "      <td>2019-12-14</td>\n",
       "      <td>NaN</td>\n",
       "      <td>NaN</td>\n",
       "    </tr>\n",
       "    <tr>\n",
       "      <td>1732</td>\n",
       "      <td>585040980</td>\n",
       "      <td>2019-12-24 09:23:23</td>\n",
       "      <td>5395</td>\n",
       "      <td>2019-12-24</td>\n",
       "      <td>2019-12-23</td>\n",
       "      <td>2019-12-14</td>\n",
       "      <td>NaN</td>\n",
       "    </tr>\n",
       "    <tr>\n",
       "      <td>2038</td>\n",
       "      <td>562973122</td>\n",
       "      <td>2019-12-29 14:01:58</td>\n",
       "      <td>5395</td>\n",
       "      <td>2019-12-29</td>\n",
       "      <td>2019-12-24</td>\n",
       "      <td>2019-12-23</td>\n",
       "      <td>2019-12-14</td>\n",
       "    </tr>\n",
       "    <tr>\n",
       "      <td>2067</td>\n",
       "      <td>586595889</td>\n",
       "      <td>2019-12-30 06:37:42</td>\n",
       "      <td>5395</td>\n",
       "      <td>2019-12-30</td>\n",
       "      <td>2019-12-29</td>\n",
       "      <td>2019-12-24</td>\n",
       "      <td>2019-12-23</td>\n",
       "    </tr>\n",
       "  </tbody>\n",
       "</table>\n",
       "</div>"
      ],
      "text/plain": [
       "        user_id          event_time  product_id PurchaseDay PrevPurchaseDate  \\\n",
       "997   568407203 2019-12-14 14:19:26        5395  2019-12-14              NaN   \n",
       "1609  450923816 2019-12-23 04:03:22        5395  2019-12-23       2019-12-14   \n",
       "1732  585040980 2019-12-24 09:23:23        5395  2019-12-24       2019-12-23   \n",
       "2038  562973122 2019-12-29 14:01:58        5395  2019-12-29       2019-12-24   \n",
       "2067  586595889 2019-12-30 06:37:42        5395  2019-12-30       2019-12-29   \n",
       "\n",
       "     T2PurchaseDate T3PurchaseDate  \n",
       "997             NaN            NaN  \n",
       "1609            NaN            NaN  \n",
       "1732     2019-12-14            NaN  \n",
       "2038     2019-12-23     2019-12-14  \n",
       "2067     2019-12-24     2019-12-23  "
      ]
     },
     "execution_count": 285,
     "metadata": {},
     "output_type": "execute_result"
    }
   ],
   "source": [
    "#shifting last 3 purchase dates of each product\n",
    "tx_day_order['PrevPurchaseDate'] = tx_day_order.groupby(['product_id'])['PurchaseDay'].shift(1)\n",
    "tx_day_order['T2PurchaseDate'] = tx_day_order.groupby(['product_id'])['PurchaseDay'].shift(2)\n",
    "tx_day_order['T3PurchaseDate'] = tx_day_order.groupby(['product_id'])['PurchaseDay'].shift(3)\n",
    "tx_day_order.head()\n",
    "#tx_day_order.loc[tx_day_order.product_id == 5766980]"
   ]
  },
  {
   "cell_type": "markdown",
   "metadata": {},
   "source": [
    "Now we are going to caculate the difference in days for each product purchase date"
   ]
  },
  {
   "cell_type": "code",
   "execution_count": 286,
   "metadata": {},
   "outputs": [
    {
     "data": {
      "text/html": [
       "<div>\n",
       "<style scoped>\n",
       "    .dataframe tbody tr th:only-of-type {\n",
       "        vertical-align: middle;\n",
       "    }\n",
       "\n",
       "    .dataframe tbody tr th {\n",
       "        vertical-align: top;\n",
       "    }\n",
       "\n",
       "    .dataframe thead th {\n",
       "        text-align: right;\n",
       "    }\n",
       "</style>\n",
       "<table border=\"1\" class=\"dataframe\">\n",
       "  <thead>\n",
       "    <tr style=\"text-align: right;\">\n",
       "      <th></th>\n",
       "      <th>user_id</th>\n",
       "      <th>event_time</th>\n",
       "      <th>product_id</th>\n",
       "      <th>PurchaseDay</th>\n",
       "      <th>PrevPurchaseDate</th>\n",
       "      <th>T2PurchaseDate</th>\n",
       "      <th>T3PurchaseDate</th>\n",
       "      <th>DayDiff</th>\n",
       "      <th>DayDiff2</th>\n",
       "      <th>DayDiff3</th>\n",
       "    </tr>\n",
       "  </thead>\n",
       "  <tbody>\n",
       "    <tr>\n",
       "      <td>997</td>\n",
       "      <td>568407203</td>\n",
       "      <td>2019-12-14 14:19:26</td>\n",
       "      <td>5395</td>\n",
       "      <td>2019-12-14</td>\n",
       "      <td>NaN</td>\n",
       "      <td>NaN</td>\n",
       "      <td>NaN</td>\n",
       "      <td>NaN</td>\n",
       "      <td>NaN</td>\n",
       "      <td>NaN</td>\n",
       "    </tr>\n",
       "    <tr>\n",
       "      <td>1609</td>\n",
       "      <td>450923816</td>\n",
       "      <td>2019-12-23 04:03:22</td>\n",
       "      <td>5395</td>\n",
       "      <td>2019-12-23</td>\n",
       "      <td>2019-12-14</td>\n",
       "      <td>NaN</td>\n",
       "      <td>NaN</td>\n",
       "      <td>9.0</td>\n",
       "      <td>NaN</td>\n",
       "      <td>NaN</td>\n",
       "    </tr>\n",
       "    <tr>\n",
       "      <td>1732</td>\n",
       "      <td>585040980</td>\n",
       "      <td>2019-12-24 09:23:23</td>\n",
       "      <td>5395</td>\n",
       "      <td>2019-12-24</td>\n",
       "      <td>2019-12-23</td>\n",
       "      <td>2019-12-14</td>\n",
       "      <td>NaN</td>\n",
       "      <td>1.0</td>\n",
       "      <td>10.0</td>\n",
       "      <td>NaN</td>\n",
       "    </tr>\n",
       "    <tr>\n",
       "      <td>2038</td>\n",
       "      <td>562973122</td>\n",
       "      <td>2019-12-29 14:01:58</td>\n",
       "      <td>5395</td>\n",
       "      <td>2019-12-29</td>\n",
       "      <td>2019-12-24</td>\n",
       "      <td>2019-12-23</td>\n",
       "      <td>2019-12-14</td>\n",
       "      <td>5.0</td>\n",
       "      <td>6.0</td>\n",
       "      <td>15.0</td>\n",
       "    </tr>\n",
       "    <tr>\n",
       "      <td>2067</td>\n",
       "      <td>586595889</td>\n",
       "      <td>2019-12-30 06:37:42</td>\n",
       "      <td>5395</td>\n",
       "      <td>2019-12-30</td>\n",
       "      <td>2019-12-29</td>\n",
       "      <td>2019-12-24</td>\n",
       "      <td>2019-12-23</td>\n",
       "      <td>1.0</td>\n",
       "      <td>6.0</td>\n",
       "      <td>7.0</td>\n",
       "    </tr>\n",
       "    <tr>\n",
       "      <td>...</td>\n",
       "      <td>...</td>\n",
       "      <td>...</td>\n",
       "      <td>...</td>\n",
       "      <td>...</td>\n",
       "      <td>...</td>\n",
       "      <td>...</td>\n",
       "      <td>...</td>\n",
       "      <td>...</td>\n",
       "      <td>...</td>\n",
       "      <td>...</td>\n",
       "    </tr>\n",
       "    <tr>\n",
       "      <td>4887</td>\n",
       "      <td>606788454</td>\n",
       "      <td>2020-01-28 12:10:47</td>\n",
       "      <td>5921389</td>\n",
       "      <td>2020-01-28</td>\n",
       "      <td>2020-01-22</td>\n",
       "      <td>NaN</td>\n",
       "      <td>NaN</td>\n",
       "      <td>6.0</td>\n",
       "      <td>NaN</td>\n",
       "      <td>NaN</td>\n",
       "    </tr>\n",
       "    <tr>\n",
       "      <td>5059</td>\n",
       "      <td>607825178</td>\n",
       "      <td>2020-01-29 18:04:51</td>\n",
       "      <td>5921389</td>\n",
       "      <td>2020-01-29</td>\n",
       "      <td>2020-01-28</td>\n",
       "      <td>2020-01-22</td>\n",
       "      <td>NaN</td>\n",
       "      <td>1.0</td>\n",
       "      <td>7.0</td>\n",
       "      <td>NaN</td>\n",
       "    </tr>\n",
       "    <tr>\n",
       "      <td>5195</td>\n",
       "      <td>534057467</td>\n",
       "      <td>2020-01-31 04:09:53</td>\n",
       "      <td>5921389</td>\n",
       "      <td>2020-01-31</td>\n",
       "      <td>2020-01-29</td>\n",
       "      <td>2020-01-28</td>\n",
       "      <td>2020-01-22</td>\n",
       "      <td>2.0</td>\n",
       "      <td>3.0</td>\n",
       "      <td>9.0</td>\n",
       "    </tr>\n",
       "    <tr>\n",
       "      <td>4895</td>\n",
       "      <td>487251557</td>\n",
       "      <td>2020-01-28 13:00:30</td>\n",
       "      <td>5921391</td>\n",
       "      <td>2020-01-28</td>\n",
       "      <td>NaN</td>\n",
       "      <td>NaN</td>\n",
       "      <td>NaN</td>\n",
       "      <td>NaN</td>\n",
       "      <td>NaN</td>\n",
       "      <td>NaN</td>\n",
       "    </tr>\n",
       "    <tr>\n",
       "      <td>5199</td>\n",
       "      <td>606025906</td>\n",
       "      <td>2020-01-31 05:22:28</td>\n",
       "      <td>5921391</td>\n",
       "      <td>2020-01-31</td>\n",
       "      <td>2020-01-28</td>\n",
       "      <td>NaN</td>\n",
       "      <td>NaN</td>\n",
       "      <td>3.0</td>\n",
       "      <td>NaN</td>\n",
       "      <td>NaN</td>\n",
       "    </tr>\n",
       "  </tbody>\n",
       "</table>\n",
       "<p>3158 rows × 10 columns</p>\n",
       "</div>"
      ],
      "text/plain": [
       "        user_id          event_time  product_id PurchaseDay PrevPurchaseDate  \\\n",
       "997   568407203 2019-12-14 14:19:26        5395  2019-12-14              NaN   \n",
       "1609  450923816 2019-12-23 04:03:22        5395  2019-12-23       2019-12-14   \n",
       "1732  585040980 2019-12-24 09:23:23        5395  2019-12-24       2019-12-23   \n",
       "2038  562973122 2019-12-29 14:01:58        5395  2019-12-29       2019-12-24   \n",
       "2067  586595889 2019-12-30 06:37:42        5395  2019-12-30       2019-12-29   \n",
       "...         ...                 ...         ...         ...              ...   \n",
       "4887  606788454 2020-01-28 12:10:47     5921389  2020-01-28       2020-01-22   \n",
       "5059  607825178 2020-01-29 18:04:51     5921389  2020-01-29       2020-01-28   \n",
       "5195  534057467 2020-01-31 04:09:53     5921389  2020-01-31       2020-01-29   \n",
       "4895  487251557 2020-01-28 13:00:30     5921391  2020-01-28              NaN   \n",
       "5199  606025906 2020-01-31 05:22:28     5921391  2020-01-31       2020-01-28   \n",
       "\n",
       "     T2PurchaseDate T3PurchaseDate  DayDiff  DayDiff2  DayDiff3  \n",
       "997             NaN            NaN      NaN       NaN       NaN  \n",
       "1609            NaN            NaN      9.0       NaN       NaN  \n",
       "1732     2019-12-14            NaN      1.0      10.0       NaN  \n",
       "2038     2019-12-23     2019-12-14      5.0       6.0      15.0  \n",
       "2067     2019-12-24     2019-12-23      1.0       6.0       7.0  \n",
       "...             ...            ...      ...       ...       ...  \n",
       "4887            NaN            NaN      6.0       NaN       NaN  \n",
       "5059     2020-01-22            NaN      1.0       7.0       NaN  \n",
       "5195     2020-01-28     2020-01-22      2.0       3.0       9.0  \n",
       "4895            NaN            NaN      NaN       NaN       NaN  \n",
       "5199            NaN            NaN      3.0       NaN       NaN  \n",
       "\n",
       "[3158 rows x 10 columns]"
      ]
     },
     "execution_count": 286,
     "metadata": {},
     "output_type": "execute_result"
    }
   ],
   "source": [
    "tx_day_order['DayDiff'] = (tx_day_order['PurchaseDay'] - tx_day_order['PrevPurchaseDate']).dt.days\n",
    "tx_day_order['DayDiff2'] = (tx_day_order['PurchaseDay'] - tx_day_order['T2PurchaseDate']).dt.days\n",
    "tx_day_order['DayDiff3'] = (tx_day_order['PurchaseDay'] - tx_day_order['T3PurchaseDate']).dt.days\n",
    "tx_day_order\n",
    "#tx_day_order.loc[tx_day_order.product_id == 5766980].head(20)"
   ]
  },
  {
   "cell_type": "markdown",
   "metadata": {},
   "source": [
    "For each product ID, we utilize .agg() method to find out the mean and standard deviation\n",
    "of the difference between purchases in days"
   ]
  },
  {
   "cell_type": "code",
   "execution_count": 91,
   "metadata": {},
   "outputs": [
    {
     "data": {
      "text/plain": [
       "(245, 3)"
      ]
     },
     "execution_count": 91,
     "metadata": {},
     "output_type": "execute_result"
    }
   ],
   "source": [
    "tx_day_diff = tx_day_order.groupby('product_id').agg({'DayDiff': ['mean','std']}).reset_index()\n",
    "tx_day_diff.columns = ['product_id', 'DayDiffMean','DayDiffStd']\n",
    "tx_day_diff.head()\n",
    "tx_day_diff.shape\n",
    "#tx_day_diff.loc[tx_day_diff.product_id == 5766980]"
   ]
  },
  {
   "cell_type": "code",
   "execution_count": 92,
   "metadata": {},
   "outputs": [
    {
     "data": {
      "text/plain": [
       "(245, 10)"
      ]
     },
     "execution_count": 92,
     "metadata": {},
     "output_type": "execute_result"
    }
   ],
   "source": [
    "#drop duplicated and keep the last\n",
    "tx_day_order_last = tx_day_order.drop_duplicates(subset=['product_id'],keep='last')\n",
    "tx_day_order_last.loc[tx_day_order.product_id == 24331]\n",
    "tx_day_order_last.shape"
   ]
  },
  {
   "cell_type": "code",
   "execution_count": 93,
   "metadata": {},
   "outputs": [
    {
     "data": {
      "text/html": [
       "<div>\n",
       "<style scoped>\n",
       "    .dataframe tbody tr th:only-of-type {\n",
       "        vertical-align: middle;\n",
       "    }\n",
       "\n",
       "    .dataframe tbody tr th {\n",
       "        vertical-align: top;\n",
       "    }\n",
       "\n",
       "    .dataframe thead th {\n",
       "        text-align: right;\n",
       "    }\n",
       "</style>\n",
       "<table border=\"1\" class=\"dataframe\">\n",
       "  <thead>\n",
       "    <tr style=\"text-align: right;\">\n",
       "      <th></th>\n",
       "      <th>user_id</th>\n",
       "      <th>event_time</th>\n",
       "      <th>product_id</th>\n",
       "      <th>PurchaseDay</th>\n",
       "      <th>PrevPurchaseDate</th>\n",
       "      <th>T2PurchaseDate</th>\n",
       "      <th>T3PurchaseDate</th>\n",
       "      <th>DayDiff</th>\n",
       "      <th>DayDiff2</th>\n",
       "      <th>DayDiff3</th>\n",
       "    </tr>\n",
       "  </thead>\n",
       "  <tbody>\n",
       "    <tr>\n",
       "      <td>4844</td>\n",
       "      <td>607103363</td>\n",
       "      <td>2020-01-28 08:56:21</td>\n",
       "      <td>5395</td>\n",
       "      <td>2020-01-28</td>\n",
       "      <td>2020-01-27</td>\n",
       "      <td>2020-01-26</td>\n",
       "      <td>2020-01-23</td>\n",
       "      <td>1.0</td>\n",
       "      <td>2.0</td>\n",
       "      <td>5.0</td>\n",
       "    </tr>\n",
       "    <tr>\n",
       "      <td>3064</td>\n",
       "      <td>530311269</td>\n",
       "      <td>2020-01-13 08:44:00</td>\n",
       "      <td>8372</td>\n",
       "      <td>2020-01-13</td>\n",
       "      <td>2020-01-05</td>\n",
       "      <td>2019-12-28</td>\n",
       "      <td>2019-12-24</td>\n",
       "      <td>8.0</td>\n",
       "      <td>16.0</td>\n",
       "      <td>20.0</td>\n",
       "    </tr>\n",
       "    <tr>\n",
       "      <td>4934</td>\n",
       "      <td>600569855</td>\n",
       "      <td>2020-01-28 16:17:51</td>\n",
       "      <td>24330</td>\n",
       "      <td>2020-01-28</td>\n",
       "      <td>2020-01-25</td>\n",
       "      <td>2020-01-22</td>\n",
       "      <td>2020-01-21</td>\n",
       "      <td>3.0</td>\n",
       "      <td>6.0</td>\n",
       "      <td>7.0</td>\n",
       "    </tr>\n",
       "    <tr>\n",
       "      <td>5044</td>\n",
       "      <td>577514838</td>\n",
       "      <td>2020-01-29 15:39:10</td>\n",
       "      <td>24331</td>\n",
       "      <td>2020-01-29</td>\n",
       "      <td>2020-01-26</td>\n",
       "      <td>2020-01-23</td>\n",
       "      <td>2020-01-22</td>\n",
       "      <td>3.0</td>\n",
       "      <td>6.0</td>\n",
       "      <td>7.0</td>\n",
       "    </tr>\n",
       "    <tr>\n",
       "      <td>4189</td>\n",
       "      <td>605133120</td>\n",
       "      <td>2020-01-23 16:43:41</td>\n",
       "      <td>24332</td>\n",
       "      <td>2020-01-23</td>\n",
       "      <td>2020-01-13</td>\n",
       "      <td>2020-01-07</td>\n",
       "      <td>2019-12-25</td>\n",
       "      <td>10.0</td>\n",
       "      <td>16.0</td>\n",
       "      <td>29.0</td>\n",
       "    </tr>\n",
       "  </tbody>\n",
       "</table>\n",
       "</div>"
      ],
      "text/plain": [
       "        user_id          event_time  product_id PurchaseDay PrevPurchaseDate  \\\n",
       "4844  607103363 2020-01-28 08:56:21        5395  2020-01-28       2020-01-27   \n",
       "3064  530311269 2020-01-13 08:44:00        8372  2020-01-13       2020-01-05   \n",
       "4934  600569855 2020-01-28 16:17:51       24330  2020-01-28       2020-01-25   \n",
       "5044  577514838 2020-01-29 15:39:10       24331  2020-01-29       2020-01-26   \n",
       "4189  605133120 2020-01-23 16:43:41       24332  2020-01-23       2020-01-13   \n",
       "\n",
       "     T2PurchaseDate T3PurchaseDate  DayDiff  DayDiff2  DayDiff3  \n",
       "4844     2020-01-26     2020-01-23      1.0       2.0       5.0  \n",
       "3064     2019-12-28     2019-12-24      8.0      16.0      20.0  \n",
       "4934     2020-01-22     2020-01-21      3.0       6.0       7.0  \n",
       "5044     2020-01-23     2020-01-22      3.0       6.0       7.0  \n",
       "4189     2020-01-07     2019-12-25     10.0      16.0      29.0  "
      ]
     },
     "execution_count": 93,
     "metadata": {},
     "output_type": "execute_result"
    }
   ],
   "source": [
    "#Drop NAN values\n",
    "tx_day_order_last = tx_day_order_last.dropna()\n",
    "tx_day_order_last.head()"
   ]
  },
  {
   "cell_type": "code",
   "execution_count": 94,
   "metadata": {},
   "outputs": [
    {
     "data": {
      "text/html": [
       "<div>\n",
       "<style scoped>\n",
       "    .dataframe tbody tr th:only-of-type {\n",
       "        vertical-align: middle;\n",
       "    }\n",
       "\n",
       "    .dataframe tbody tr th {\n",
       "        vertical-align: top;\n",
       "    }\n",
       "\n",
       "    .dataframe thead th {\n",
       "        text-align: right;\n",
       "    }\n",
       "</style>\n",
       "<table border=\"1\" class=\"dataframe\">\n",
       "  <thead>\n",
       "    <tr style=\"text-align: right;\">\n",
       "      <th></th>\n",
       "      <th>user_id</th>\n",
       "      <th>event_time</th>\n",
       "      <th>product_id</th>\n",
       "      <th>PurchaseDay</th>\n",
       "      <th>PrevPurchaseDate</th>\n",
       "      <th>T2PurchaseDate</th>\n",
       "      <th>T3PurchaseDate</th>\n",
       "      <th>DayDiff</th>\n",
       "      <th>DayDiff2</th>\n",
       "      <th>DayDiff3</th>\n",
       "      <th>DayDiffMean</th>\n",
       "      <th>DayDiffStd</th>\n",
       "    </tr>\n",
       "  </thead>\n",
       "  <tbody>\n",
       "    <tr>\n",
       "      <td>0</td>\n",
       "      <td>607103363</td>\n",
       "      <td>2020-01-28 08:56:21</td>\n",
       "      <td>5395</td>\n",
       "      <td>2020-01-28</td>\n",
       "      <td>2020-01-27</td>\n",
       "      <td>2020-01-26</td>\n",
       "      <td>2020-01-23</td>\n",
       "      <td>1.0</td>\n",
       "      <td>2.0</td>\n",
       "      <td>5.0</td>\n",
       "      <td>3.000000</td>\n",
       "      <td>2.449490</td>\n",
       "    </tr>\n",
       "    <tr>\n",
       "      <td>1</td>\n",
       "      <td>530311269</td>\n",
       "      <td>2020-01-13 08:44:00</td>\n",
       "      <td>8372</td>\n",
       "      <td>2020-01-13</td>\n",
       "      <td>2020-01-05</td>\n",
       "      <td>2019-12-28</td>\n",
       "      <td>2019-12-24</td>\n",
       "      <td>8.0</td>\n",
       "      <td>16.0</td>\n",
       "      <td>20.0</td>\n",
       "      <td>7.600000</td>\n",
       "      <td>3.507136</td>\n",
       "    </tr>\n",
       "    <tr>\n",
       "      <td>2</td>\n",
       "      <td>600569855</td>\n",
       "      <td>2020-01-28 16:17:51</td>\n",
       "      <td>24330</td>\n",
       "      <td>2020-01-28</td>\n",
       "      <td>2020-01-25</td>\n",
       "      <td>2020-01-22</td>\n",
       "      <td>2020-01-21</td>\n",
       "      <td>3.0</td>\n",
       "      <td>6.0</td>\n",
       "      <td>7.0</td>\n",
       "      <td>2.076923</td>\n",
       "      <td>1.293772</td>\n",
       "    </tr>\n",
       "    <tr>\n",
       "      <td>3</td>\n",
       "      <td>577514838</td>\n",
       "      <td>2020-01-29 15:39:10</td>\n",
       "      <td>24331</td>\n",
       "      <td>2020-01-29</td>\n",
       "      <td>2020-01-26</td>\n",
       "      <td>2020-01-23</td>\n",
       "      <td>2020-01-22</td>\n",
       "      <td>3.0</td>\n",
       "      <td>6.0</td>\n",
       "      <td>7.0</td>\n",
       "      <td>2.320000</td>\n",
       "      <td>1.908752</td>\n",
       "    </tr>\n",
       "    <tr>\n",
       "      <td>4</td>\n",
       "      <td>605133120</td>\n",
       "      <td>2020-01-23 16:43:41</td>\n",
       "      <td>24332</td>\n",
       "      <td>2020-01-23</td>\n",
       "      <td>2020-01-13</td>\n",
       "      <td>2020-01-07</td>\n",
       "      <td>2019-12-25</td>\n",
       "      <td>10.0</td>\n",
       "      <td>16.0</td>\n",
       "      <td>29.0</td>\n",
       "      <td>7.285714</td>\n",
       "      <td>4.309458</td>\n",
       "    </tr>\n",
       "  </tbody>\n",
       "</table>\n",
       "</div>"
      ],
      "text/plain": [
       "     user_id          event_time  product_id PurchaseDay PrevPurchaseDate  \\\n",
       "0  607103363 2020-01-28 08:56:21        5395  2020-01-28       2020-01-27   \n",
       "1  530311269 2020-01-13 08:44:00        8372  2020-01-13       2020-01-05   \n",
       "2  600569855 2020-01-28 16:17:51       24330  2020-01-28       2020-01-25   \n",
       "3  577514838 2020-01-29 15:39:10       24331  2020-01-29       2020-01-26   \n",
       "4  605133120 2020-01-23 16:43:41       24332  2020-01-23       2020-01-13   \n",
       "\n",
       "  T2PurchaseDate T3PurchaseDate  DayDiff  DayDiff2  DayDiff3  DayDiffMean  \\\n",
       "0     2020-01-26     2020-01-23      1.0       2.0       5.0     3.000000   \n",
       "1     2019-12-28     2019-12-24      8.0      16.0      20.0     7.600000   \n",
       "2     2020-01-22     2020-01-21      3.0       6.0       7.0     2.076923   \n",
       "3     2020-01-23     2020-01-22      3.0       6.0       7.0     2.320000   \n",
       "4     2020-01-07     2019-12-25     10.0      16.0      29.0     7.285714   \n",
       "\n",
       "   DayDiffStd  \n",
       "0    2.449490  \n",
       "1    3.507136  \n",
       "2    1.293772  \n",
       "3    1.908752  \n",
       "4    4.309458  "
      ]
     },
     "execution_count": 94,
     "metadata": {},
     "output_type": "execute_result"
    }
   ],
   "source": [
    "#Merge dataframes\n",
    "tx_day_order_last = pd.merge(tx_day_order_last, tx_day_diff, on='product_id')\n",
    "tx_day_order_last.head()"
   ]
  },
  {
   "cell_type": "markdown",
   "metadata": {},
   "source": [
    "Merge tx_day_order_last dataframes with tx_product and apply .get_dummies() for converting categorical values:"
   ]
  },
  {
   "cell_type": "code",
   "execution_count": 95,
   "metadata": {},
   "outputs": [
    {
     "data": {
      "text/html": [
       "<div>\n",
       "<style scoped>\n",
       "    .dataframe tbody tr th:only-of-type {\n",
       "        vertical-align: middle;\n",
       "    }\n",
       "\n",
       "    .dataframe tbody tr th {\n",
       "        vertical-align: top;\n",
       "    }\n",
       "\n",
       "    .dataframe thead th {\n",
       "        text-align: right;\n",
       "    }\n",
       "</style>\n",
       "<table border=\"1\" class=\"dataframe\">\n",
       "  <thead>\n",
       "    <tr style=\"text-align: right;\">\n",
       "      <th></th>\n",
       "      <th>product_id</th>\n",
       "      <th>NextPurchaseDay</th>\n",
       "      <th>DayDiff</th>\n",
       "      <th>DayDiff2</th>\n",
       "      <th>DayDiff3</th>\n",
       "      <th>DayDiffMean</th>\n",
       "      <th>DayDiffStd</th>\n",
       "    </tr>\n",
       "  </thead>\n",
       "  <tbody>\n",
       "    <tr>\n",
       "      <td>0</td>\n",
       "      <td>5873430</td>\n",
       "      <td>58</td>\n",
       "      <td>1.0</td>\n",
       "      <td>2.0</td>\n",
       "      <td>4.0</td>\n",
       "      <td>1.870968</td>\n",
       "      <td>1.765256</td>\n",
       "    </tr>\n",
       "    <tr>\n",
       "      <td>1</td>\n",
       "      <td>5861766</td>\n",
       "      <td>54</td>\n",
       "      <td>7.0</td>\n",
       "      <td>8.0</td>\n",
       "      <td>13.0</td>\n",
       "      <td>6.750000</td>\n",
       "      <td>7.146428</td>\n",
       "    </tr>\n",
       "    <tr>\n",
       "      <td>2</td>\n",
       "      <td>5889695</td>\n",
       "      <td>61</td>\n",
       "      <td>3.0</td>\n",
       "      <td>6.0</td>\n",
       "      <td>7.0</td>\n",
       "      <td>2.033333</td>\n",
       "      <td>1.496740</td>\n",
       "    </tr>\n",
       "    <tr>\n",
       "      <td>3</td>\n",
       "      <td>5889696</td>\n",
       "      <td>60</td>\n",
       "      <td>1.0</td>\n",
       "      <td>2.0</td>\n",
       "      <td>3.0</td>\n",
       "      <td>2.857143</td>\n",
       "      <td>2.988072</td>\n",
       "    </tr>\n",
       "    <tr>\n",
       "      <td>4</td>\n",
       "      <td>5746974</td>\n",
       "      <td>61</td>\n",
       "      <td>2.0</td>\n",
       "      <td>3.0</td>\n",
       "      <td>4.0</td>\n",
       "      <td>3.388889</td>\n",
       "      <td>2.872566</td>\n",
       "    </tr>\n",
       "  </tbody>\n",
       "</table>\n",
       "</div>"
      ],
      "text/plain": [
       "   product_id  NextPurchaseDay  DayDiff  DayDiff2  DayDiff3  DayDiffMean  \\\n",
       "0     5873430               58      1.0       2.0       4.0     1.870968   \n",
       "1     5861766               54      7.0       8.0      13.0     6.750000   \n",
       "2     5889695               61      3.0       6.0       7.0     2.033333   \n",
       "3     5889696               60      1.0       2.0       3.0     2.857143   \n",
       "4     5746974               61      2.0       3.0       4.0     3.388889   \n",
       "\n",
       "   DayDiffStd  \n",
       "0    1.765256  \n",
       "1    7.146428  \n",
       "2    1.496740  \n",
       "3    2.988072  \n",
       "4    2.872566  "
      ]
     },
     "execution_count": 95,
     "metadata": {},
     "output_type": "execute_result"
    }
   ],
   "source": [
    "tx_product = pd.merge(tx_product, tx_day_order_last[['product_id','DayDiff','DayDiff2','DayDiff3','DayDiffMean','DayDiffStd']], on='product_id')\n",
    "#create tx_class as a copy of tx_user before applying get_dummies\n",
    "tx_class = tx_product.copy()\n",
    "tx_class = pd.get_dummies(tx_class)\n",
    "tx_class.head()"
   ]
  },
  {
   "cell_type": "markdown",
   "metadata": {},
   "source": [
    "Our feature set is ready for building a classification model.\n",
    "Now we need to define our labels. To do that fisrt:"
   ]
  },
  {
   "cell_type": "code",
   "execution_count": 96,
   "metadata": {},
   "outputs": [
    {
     "data": {
      "text/plain": [
       "count    180.000000\n",
       "mean      48.461111\n",
       "std       13.008963\n",
       "min        7.000000\n",
       "25%       43.000000\n",
       "50%       54.000000\n",
       "75%       58.000000\n",
       "max       61.000000\n",
       "Name: NextPurchaseDay, dtype: float64"
      ]
     },
     "execution_count": 96,
     "metadata": {},
     "output_type": "execute_result"
    }
   ],
   "source": [
    "tx_product.NextPurchaseDay.describe()"
   ]
  },
  {
   "cell_type": "markdown",
   "metadata": {},
   "source": [
    "Considering the information adove we decide this boundaries:\n",
    "\n",
    "* 0-40: class_name = 2\n",
    "* 41-55: class_name = 1\n",
    "* />55: class_name = 0\n",
    "So our labels will be 0, 1 and 2"
   ]
  },
  {
   "cell_type": "code",
   "execution_count": 97,
   "metadata": {},
   "outputs": [
    {
     "data": {
      "text/html": [
       "<div>\n",
       "<style scoped>\n",
       "    .dataframe tbody tr th:only-of-type {\n",
       "        vertical-align: middle;\n",
       "    }\n",
       "\n",
       "    .dataframe tbody tr th {\n",
       "        vertical-align: top;\n",
       "    }\n",
       "\n",
       "    .dataframe thead th {\n",
       "        text-align: right;\n",
       "    }\n",
       "</style>\n",
       "<table border=\"1\" class=\"dataframe\">\n",
       "  <thead>\n",
       "    <tr style=\"text-align: right;\">\n",
       "      <th></th>\n",
       "      <th>product_id</th>\n",
       "      <th>NextPurchaseDay</th>\n",
       "      <th>DayDiff</th>\n",
       "      <th>DayDiff2</th>\n",
       "      <th>DayDiff3</th>\n",
       "      <th>DayDiffMean</th>\n",
       "      <th>DayDiffStd</th>\n",
       "      <th>NextPurchaseDayRange</th>\n",
       "    </tr>\n",
       "  </thead>\n",
       "  <tbody>\n",
       "    <tr>\n",
       "      <td>0</td>\n",
       "      <td>5873430</td>\n",
       "      <td>58</td>\n",
       "      <td>1.0</td>\n",
       "      <td>2.0</td>\n",
       "      <td>4.0</td>\n",
       "      <td>1.870968</td>\n",
       "      <td>1.765256</td>\n",
       "      <td>0</td>\n",
       "    </tr>\n",
       "    <tr>\n",
       "      <td>1</td>\n",
       "      <td>5861766</td>\n",
       "      <td>54</td>\n",
       "      <td>7.0</td>\n",
       "      <td>8.0</td>\n",
       "      <td>13.0</td>\n",
       "      <td>6.750000</td>\n",
       "      <td>7.146428</td>\n",
       "      <td>1</td>\n",
       "    </tr>\n",
       "    <tr>\n",
       "      <td>2</td>\n",
       "      <td>5889695</td>\n",
       "      <td>61</td>\n",
       "      <td>3.0</td>\n",
       "      <td>6.0</td>\n",
       "      <td>7.0</td>\n",
       "      <td>2.033333</td>\n",
       "      <td>1.496740</td>\n",
       "      <td>0</td>\n",
       "    </tr>\n",
       "    <tr>\n",
       "      <td>3</td>\n",
       "      <td>5889696</td>\n",
       "      <td>60</td>\n",
       "      <td>1.0</td>\n",
       "      <td>2.0</td>\n",
       "      <td>3.0</td>\n",
       "      <td>2.857143</td>\n",
       "      <td>2.988072</td>\n",
       "      <td>0</td>\n",
       "    </tr>\n",
       "    <tr>\n",
       "      <td>4</td>\n",
       "      <td>5746974</td>\n",
       "      <td>61</td>\n",
       "      <td>2.0</td>\n",
       "      <td>3.0</td>\n",
       "      <td>4.0</td>\n",
       "      <td>3.388889</td>\n",
       "      <td>2.872566</td>\n",
       "      <td>0</td>\n",
       "    </tr>\n",
       "    <tr>\n",
       "      <td>...</td>\n",
       "      <td>...</td>\n",
       "      <td>...</td>\n",
       "      <td>...</td>\n",
       "      <td>...</td>\n",
       "      <td>...</td>\n",
       "      <td>...</td>\n",
       "      <td>...</td>\n",
       "      <td>...</td>\n",
       "    </tr>\n",
       "    <tr>\n",
       "      <td>175</td>\n",
       "      <td>5892335</td>\n",
       "      <td>8</td>\n",
       "      <td>4.0</td>\n",
       "      <td>5.0</td>\n",
       "      <td>9.0</td>\n",
       "      <td>3.000000</td>\n",
       "      <td>1.732051</td>\n",
       "      <td>2</td>\n",
       "    </tr>\n",
       "    <tr>\n",
       "      <td>176</td>\n",
       "      <td>5710610</td>\n",
       "      <td>9</td>\n",
       "      <td>1.0</td>\n",
       "      <td>4.0</td>\n",
       "      <td>10.0</td>\n",
       "      <td>3.333333</td>\n",
       "      <td>2.516611</td>\n",
       "      <td>2</td>\n",
       "    </tr>\n",
       "    <tr>\n",
       "      <td>177</td>\n",
       "      <td>5889693</td>\n",
       "      <td>13</td>\n",
       "      <td>2.0</td>\n",
       "      <td>3.0</td>\n",
       "      <td>12.0</td>\n",
       "      <td>3.250000</td>\n",
       "      <td>3.862210</td>\n",
       "      <td>2</td>\n",
       "    </tr>\n",
       "    <tr>\n",
       "      <td>178</td>\n",
       "      <td>5885589</td>\n",
       "      <td>7</td>\n",
       "      <td>3.0</td>\n",
       "      <td>7.0</td>\n",
       "      <td>8.0</td>\n",
       "      <td>2.666667</td>\n",
       "      <td>1.527525</td>\n",
       "      <td>2</td>\n",
       "    </tr>\n",
       "    <tr>\n",
       "      <td>179</td>\n",
       "      <td>5921389</td>\n",
       "      <td>8</td>\n",
       "      <td>2.0</td>\n",
       "      <td>3.0</td>\n",
       "      <td>9.0</td>\n",
       "      <td>3.000000</td>\n",
       "      <td>2.645751</td>\n",
       "      <td>2</td>\n",
       "    </tr>\n",
       "  </tbody>\n",
       "</table>\n",
       "<p>180 rows × 8 columns</p>\n",
       "</div>"
      ],
      "text/plain": [
       "     product_id  NextPurchaseDay  DayDiff  DayDiff2  DayDiff3  DayDiffMean  \\\n",
       "0       5873430               58      1.0       2.0       4.0     1.870968   \n",
       "1       5861766               54      7.0       8.0      13.0     6.750000   \n",
       "2       5889695               61      3.0       6.0       7.0     2.033333   \n",
       "3       5889696               60      1.0       2.0       3.0     2.857143   \n",
       "4       5746974               61      2.0       3.0       4.0     3.388889   \n",
       "..          ...              ...      ...       ...       ...          ...   \n",
       "175     5892335                8      4.0       5.0       9.0     3.000000   \n",
       "176     5710610                9      1.0       4.0      10.0     3.333333   \n",
       "177     5889693               13      2.0       3.0      12.0     3.250000   \n",
       "178     5885589                7      3.0       7.0       8.0     2.666667   \n",
       "179     5921389                8      2.0       3.0       9.0     3.000000   \n",
       "\n",
       "     DayDiffStd  NextPurchaseDayRange  \n",
       "0      1.765256                     0  \n",
       "1      7.146428                     1  \n",
       "2      1.496740                     0  \n",
       "3      2.988072                     0  \n",
       "4      2.872566                     0  \n",
       "..          ...                   ...  \n",
       "175    1.732051                     2  \n",
       "176    2.516611                     2  \n",
       "177    3.862210                     2  \n",
       "178    1.527525                     2  \n",
       "179    2.645751                     2  \n",
       "\n",
       "[180 rows x 8 columns]"
      ]
     },
     "execution_count": 97,
     "metadata": {},
     "output_type": "execute_result"
    }
   ],
   "source": [
    "tx_class['NextPurchaseDayRange'] = 2\n",
    "tx_class.loc[tx_class.NextPurchaseDay>40,'NextPurchaseDayRange'] = 1\n",
    "tx_class.loc[tx_class.NextPurchaseDay>55,'NextPurchaseDayRange'] = 0\n",
    "tx_class"
   ]
  },
  {
   "cell_type": "markdown",
   "metadata": {},
   "source": [
    "We can see the porcentage of each we have in our dataset"
   ]
  },
  {
   "cell_type": "code",
   "execution_count": 99,
   "metadata": {},
   "outputs": [
    {
     "data": {
      "text/plain": [
       "0    0.394444\n",
       "1    0.383333\n",
       "2    0.222222\n",
       "Name: NextPurchaseDayRange, dtype: float64"
      ]
     },
     "execution_count": 99,
     "metadata": {},
     "output_type": "execute_result"
    }
   ],
   "source": [
    "tx_class.NextPurchaseDayRange.value_counts()/len(tx_product)"
   ]
  },
  {
   "cell_type": "markdown",
   "metadata": {},
   "source": [
    "The last step is to see the correlation between our features and label. \n",
    "The correlation matrix is one of the cleanest ways to show this:"
   ]
  },
  {
   "cell_type": "code",
   "execution_count": 100,
   "metadata": {},
   "outputs": [
    {
     "data": {
      "text/plain": [
       "<matplotlib.axes._subplots.AxesSubplot at 0x2b401a3e1c8>"
      ]
     },
     "execution_count": 100,
     "metadata": {},
     "output_type": "execute_result"
    },
    {
     "data": {
      "image/png": "[encoded data removed]",
      "text/plain": [
       "<Figure size 1152x432 with 2 Axes>"
      ]
     },
     "metadata": {},
     "output_type": "display_data"
    }
   ],
   "source": [
    "corr = tx_class[tx_class.columns].corr()\n",
    "plt.figure(figsize = (16,6))\n",
    "sns.heatmap(corr, annot = True, linewidths=0.5, fmt=\".2f\")"
   ]
  },
  {
   "cell_type": "markdown",
   "metadata": {},
   "source": [
    "Now we need to separate Target and features:"
   ]
  },
  {
   "cell_type": "code",
   "execution_count": 101,
   "metadata": {},
   "outputs": [
    {
     "data": {
      "text/plain": [
       "Index(['NextPurchaseDayRange'], dtype='object')"
      ]
     },
     "execution_count": 101,
     "metadata": {},
     "output_type": "execute_result"
    }
   ],
   "source": [
    "features= ['product_id','DayDiff','DayDiff2','DayDiff3','DayDiffMean','DayDiffStd']\n",
    "y= tx_class[['NextPurchaseDayRange']].copy()\n",
    "X =tx_class[features].copy()\n",
    "y.columns"
   ]
  },
  {
   "cell_type": "code",
   "execution_count": 102,
   "metadata": {},
   "outputs": [
    {
     "data": {
      "text/html": [
       "<div>\n",
       "<style scoped>\n",
       "    .dataframe tbody tr th:only-of-type {\n",
       "        vertical-align: middle;\n",
       "    }\n",
       "\n",
       "    .dataframe tbody tr th {\n",
       "        vertical-align: top;\n",
       "    }\n",
       "\n",
       "    .dataframe thead th {\n",
       "        text-align: right;\n",
       "    }\n",
       "</style>\n",
       "<table border=\"1\" class=\"dataframe\">\n",
       "  <thead>\n",
       "    <tr style=\"text-align: right;\">\n",
       "      <th></th>\n",
       "      <th>NextPurchaseDayRange</th>\n",
       "    </tr>\n",
       "  </thead>\n",
       "  <tbody>\n",
       "    <tr>\n",
       "      <td>151</td>\n",
       "      <td>2</td>\n",
       "    </tr>\n",
       "    <tr>\n",
       "      <td>134</td>\n",
       "      <td>2</td>\n",
       "    </tr>\n",
       "    <tr>\n",
       "      <td>41</td>\n",
       "      <td>0</td>\n",
       "    </tr>\n",
       "    <tr>\n",
       "      <td>162</td>\n",
       "      <td>2</td>\n",
       "    </tr>\n",
       "    <tr>\n",
       "      <td>175</td>\n",
       "      <td>2</td>\n",
       "    </tr>\n",
       "  </tbody>\n",
       "</table>\n",
       "</div>"
      ],
      "text/plain": [
       "     NextPurchaseDayRange\n",
       "151                     2\n",
       "134                     2\n",
       "41                      0\n",
       "162                     2\n",
       "175                     2"
      ]
     },
     "execution_count": 102,
     "metadata": {},
     "output_type": "execute_result"
    }
   ],
   "source": [
    "#train & test split\n",
    "from sklearn.model_selection import train_test_split\n",
    "X_train, X_test, y_train, y_test = train_test_split(X, y, test_size=0.33, random_state=324)\n",
    "y_train.head()"
   ]
  },
  {
   "cell_type": "code",
   "execution_count": 146,
   "metadata": {},
   "outputs": [
    {
     "name": "stdout",
     "output_type": "stream",
     "text": [
      "0.35\n",
      "Number of mislabeled points out of a total 60 points : 39\n"
     ]
    },
    {
     "name": "stderr",
     "output_type": "stream",
     "text": [
      "C:\\Users\\clara.o.villalba\\AppData\\Local\\Continuum\\anaconda3\\lib\\site-packages\\sklearn\\utils\\validation.py:724: DataConversionWarning: A column-vector y was passed when a 1d array was expected. Please change the shape of y to (n_samples, ), for example using ravel().\n",
      "  y = column_or_1d(y, warn=True)\n"
     ]
    }
   ],
   "source": [
    "from sklearn.naive_bayes import GaussianNB\n",
    "from sklearn.metrics import classification_report,confusion_matrix\n",
    "from sklearn.metrics import accuracy_score\n",
    "gnb = GaussianNB()\n",
    "y_pred = gnb.fit(X_train, y_train).predict(X_test)\n",
    "print(accuracy_score(y_test, y_pred))\n",
    "\n",
    "print(\"Number of mislabeled points out of a total %d points : %d\" % (X_test.shape[0], (y_test['NextPurchaseDayRange'].values.tolist() != y_pred).sum()))\n",
    "#print(classification_report(y_test, y_pred))"
   ]
  },
  {
   "cell_type": "code",
   "execution_count": 148,
   "metadata": {},
   "outputs": [
    {
     "name": "stdout",
     "output_type": "stream",
     "text": [
      "0    0.161111\n",
      "1    0.116667\n",
      "2    0.055556\n",
      "Name: NextPurchaseDayRange, dtype: float64\n",
      "1    0.333333\n",
      "Name: NextPurchaseDayRange, dtype: float64\n"
     ]
    }
   ],
   "source": [
    "print(y_test.NextPurchaseDayRange.value_counts()/len(tx_product))\n",
    "test_values_NB = (y_test.NextPurchaseDayRange.value_counts()/len(tx_product)).tolist()\n",
    "y_pred_df = pd.DataFrame(y_pred)\n",
    "y_pred_df.columns = ['NextPurchaseDayRange']\n",
    "print(y_pred_df.NextPurchaseDayRange.value_counts()/len(tx_product))\n",
    "pred_values_NB = (y_pred_df.NextPurchaseDayRange.value_counts()/len(tx_product)).tolist()"
   ]
  },
  {
   "cell_type": "code",
   "execution_count": 149,
   "metadata": {},
   "outputs": [
    {
     "data": {
      "image/png": "[encoded data removed]",
      "text/plain": [
       "<Figure size 432x288 with 1 Axes>"
      ]
     },
     "metadata": {},
     "output_type": "display_data"
    }
   ],
   "source": [
    "# Initialize the figure\n",
    "plt.style.use('seaborn-darkgrid')\n",
    "# line 1 points\n",
    "x1 = [0,1,2]\n",
    "y1 = test_values_NB\n",
    "# plotting the line 1 points \n",
    "plt.plot(x1, y1, label = \"Test Values\",marker='o')\n",
    "# line 2 points\n",
    "x2 = [1]\n",
    "y2 = pred_values_NB\n",
    "# plotting the line 2 points \n",
    "plt.plot(x2, y2, label = \"Pred Values\",marker='o')\n",
    "plt.xlabel('labels')\n",
    "# Set the y axis label of the current axis.\n",
    "plt.ylabel('% in the total')\n",
    "# Set a title of the current axes.\n",
    "plt.title('Comparison between test and predicted values for Naive Bayes model  ')\n",
    "# show a legend on the plot\n",
    "plt.legend()\n",
    "# Display a figure.\n",
    "plt.show()"
   ]
  },
  {
   "cell_type": "code",
   "execution_count": 104,
   "metadata": {},
   "outputs": [
    {
     "name": "stdout",
     "output_type": "stream",
     "text": [
      "0.5666666666666667\n",
      "Number of mislabeled points out of a total 60 points : 26\n"
     ]
    }
   ],
   "source": [
    "from sklearn.tree import DecisionTreeClassifier\n",
    "train_classifier = DecisionTreeClassifier(max_leaf_nodes=2, random_state=0)\n",
    "v = train_classifier.fit(X_train, y_train)\n",
    "y_pred2 = v.predict(X_test)\n",
    "print(accuracy_score(y_test, y_pred2))\n",
    "\n",
    "print(\"Number of mislabeled points out of a total %d points : %d\" % (X_test.shape[0], (y_test['NextPurchaseDayRange'].values.tolist() != y_pred2).sum()))\n",
    "#print(classification_report(y_test, y_pred))"
   ]
  },
  {
   "cell_type": "code",
   "execution_count": 140,
   "metadata": {},
   "outputs": [
    {
     "name": "stdout",
     "output_type": "stream",
     "text": [
      "[1 1 1 0 1 0 1 1 1 1 0 0 1 1 1 1 0 1 1 1 1 0 1 0 1 0 1 0 1 0 1 0 0 0 1 1 0\n",
      " 1 0 1 1 1 0 0 1 1 0 1 0 1 1 1 1 1 0 1 1 1 1 1]\n",
      "0    0.161111\n",
      "1    0.116667\n",
      "2    0.055556\n",
      "Name: NextPurchaseDayRange, dtype: float64\n",
      "1    0.222222\n",
      "0    0.111111\n",
      "Name: NextPurchaseDayRange, dtype: float64\n",
      "[0.16111111111111112, 0.11666666666666667, 0.05555555555555555]\n",
      "[0.2222222222222222, 0.1111111111111111]\n"
     ]
    }
   ],
   "source": [
    "print(y_pred2)\n",
    "print((y_test.NextPurchaseDayRange.value_counts()/len(tx_product)))\n",
    "test_values_DT = (y_test.NextPurchaseDayRange.value_counts()/len(tx_product)).tolist()\n",
    "y_pred_df = pd.DataFrame(y_pred2)\n",
    "y_pred_df.columns = ['NextPurchaseDayRange']\n",
    "print((y_pred_df.NextPurchaseDayRange.value_counts()/len(tx_product)))\n",
    "pred_values_DT =(y_pred_df.NextPurchaseDayRange.value_counts()/len(tx_product)).tolist()\n",
    "print(test_values_DT)\n",
    "print(pred_values_DT)"
   ]
  },
  {
   "cell_type": "code",
   "execution_count": 142,
   "metadata": {},
   "outputs": [
    {
     "data": {
      "image/png": "[encoded data removed]",
      "text/plain": [
       "<Figure size 432x288 with 1 Axes>"
      ]
     },
     "metadata": {},
     "output_type": "display_data"
    }
   ],
   "source": [
    "# Initialize the figure\n",
    "plt.style.use('seaborn-darkgrid')\n",
    "# line 1 points\n",
    "x1 = [0,1,2]\n",
    "y1 = test_values_DT\n",
    "# plotting the line 1 points \n",
    "plt.plot(x1, y1, label = \"Test Values\",marker='o')\n",
    "# line 2 points\n",
    "x2 = [1,0]\n",
    "y2 = pred_values_DT\n",
    "# plotting the line 2 points \n",
    "plt.plot(x2, y2, label = \"Pred Values\",marker='o')\n",
    "plt.xlabel('labels')\n",
    "# Set the y axis label of the current axis.\n",
    "plt.ylabel('% in the total')\n",
    "# Set a title of the current axes.\n",
    "plt.title('Comparison between test and predicted values for Decision Tree model  ')\n",
    "# show a legend on the plot\n",
    "plt.legend()\n",
    "# Display a figure.\n",
    "plt.show()"
   ]
  },
  {
   "cell_type": "code",
   "execution_count": 123,
   "metadata": {},
   "outputs": [
    {
     "name": "stdout",
     "output_type": "stream",
     "text": [
      "0.65\n",
      "Number of mislabeled points out of a total 60 points : 21\n"
     ]
    },
    {
     "name": "stderr",
     "output_type": "stream",
     "text": [
      "C:\\Users\\clara.o.villalba\\AppData\\Local\\Continuum\\anaconda3\\lib\\site-packages\\ipykernel_launcher.py:3: DataConversionWarning: A column-vector y was passed when a 1d array was expected. Please change the shape of y to (n_samples, ), for example using ravel().\n",
      "  This is separate from the ipykernel package so we can avoid doing imports until\n"
     ]
    }
   ],
   "source": [
    "from sklearn.neighbors import KNeighborsClassifier\n",
    "knn = KNeighborsClassifier()\n",
    "y_pred = knn.fit(X_train, y_train).predict(X_test)\n",
    "print(accuracy_score(y_test, y_pred))\n",
    "print(\"Number of mislabeled points out of a total %d points : %d\" % (X_test.shape[0], (y_test['NextPurchaseDayRange'].values.tolist() != y_pred).sum()))\n",
    "#print(classification_report(y_test, y_pred))"
   ]
  },
  {
   "cell_type": "markdown",
   "metadata": {},
   "source": [
    "From this result, we see that KNeighborsClassifier is the best performing one (~65% accuracy)."
   ]
  },
  {
   "cell_type": "code",
   "execution_count": 126,
   "metadata": {},
   "outputs": [
    {
     "name": "stdout",
     "output_type": "stream",
     "text": [
      "[0.16111111111111112, 0.11666666666666667, 0.05555555555555555]\n",
      "[0.18888888888888888, 0.10555555555555556, 0.03888888888888889]\n"
     ]
    }
   ],
   "source": [
    "test_values = (y_test.NextPurchaseDayRange.value_counts()/len(tx_product)).tolist()\n",
    "#y_test \n",
    "y_pred_df = pd.DataFrame(y_pred)\n",
    "y_pred_df.columns = ['NextPurchaseDayRange']\n",
    "#y_pred_df\n",
    "pred_values = (y_pred_df.NextPurchaseDayRange.value_counts()/len(tx_product)).tolist()\n",
    "print(test_values)\n",
    "print(pred_values)"
   ]
  },
  {
   "cell_type": "code",
   "execution_count": 153,
   "metadata": {},
   "outputs": [
    {
     "data": {
      "image/png": "[encoded data removed]",
      "text/plain": [
       "<Figure size 432x288 with 1 Axes>"
      ]
     },
     "metadata": {},
     "output_type": "display_data"
    }
   ],
   "source": [
    "import matplotlib.pyplot as plt\n",
    "# Initialize the figure\n",
    "plt.style.use('seaborn-darkgrid')\n",
    "# line 1 points\n",
    "x1 = [0,1,2]\n",
    "y1 = test_values\n",
    "# plotting the line 1 points \n",
    "plt.plot(x1, y1, label = \"Test Values\",marker='o')\n",
    "# line 2 points\n",
    "x2 = [0,1,2]\n",
    "y2 = pred_values\n",
    "# plotting the line 2 points \n",
    "plt.plot(x2, y2, label = \"Pred Values\",marker='o')\n",
    "plt.xlabel('labels')\n",
    "# Set the y axis label of the current axis.\n",
    "plt.ylabel('% in the total')\n",
    "# Set a title of the current axes.\n",
    "plt.title('Comparison between test and predicted values for KNN model  ')\n",
    "# show a legend on the plot\n",
    "plt.legend()\n",
    "# Display a figure.\n",
    "plt.show()"
   ]
  },
  {
   "cell_type": "markdown",
   "metadata": {},
   "source": [
    "### Conclusions"
   ]
  },
  {
   "cell_type": "markdown",
   "metadata": {},
   "source": [
    " In this study of the dataset of eCommerce Events History in Cosmetics Shop we got some metrics that could be useful to have knowledge about the events in December 2019 compared to the events in January 2020\n",
    " \n",
    " On the other hand, we trained a model to predict  the Next Purchase Day of a product  we an accuracy of 0.65, which is a very good score.\n"
   ]
  },
  {
   "cell_type": "code",
   "execution_count": null,
   "metadata": {},
   "outputs": [],
   "source": []
  }
 ],
 "metadata": {
  "kernelspec": {
   "display_name": "Python 3",
   "language": "python",
   "name": "python3"
  },
  "language_info": {
   "codemirror_mode": {
    "name": "ipython",
    "version": 3
   },
   "file_extension": ".py",
   "mimetype": "text/x-python",
   "name": "python",
   "nbconvert_exporter": "python",
   "pygments_lexer": "ipython3",
   "version": "3.7.4"
  }
 },
 "nbformat": 4,
 "nbformat_minor": 2
}
